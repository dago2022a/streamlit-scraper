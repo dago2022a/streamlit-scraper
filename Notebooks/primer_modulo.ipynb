{
 "cells": [
  {
   "cell_type": "markdown",
   "metadata": {},
   "source": [
    "![Imágen de webscraping](https://miro.medium.com/max/1400/0*kCtJ2Ah_7PdARiKC)"
   ]
  },
  {
   "cell_type": "markdown",
   "metadata": {},
   "source": []
  },
  {
   "cell_type": "markdown",
   "metadata": {},
   "source": [
    "<h3><center>Definición y utilidades</center></h3>\n",
    "\n",
    "Sinónimos: \n",
    "- Screen Scraping\n",
    "- Data Mining\n",
    "- Web Harvesting\n",
    "\n",
    "\n",
    "Las páginas web están escritas en HTML, lo que significa que las páginas web son documentos estructurados en su gran mayoría. Esto nos da la posibilidad de extraer la data almacenada en la misma.\n",
    "\n",
    "Web = Página web\n",
    "Scraping = Extracción de datos \n",
    "\n",
    "> **¿Qué es Web Scraping?**\n",
    "\n",
    "Práctica de recopilar datos a través de cualquier medio que no sea un programa que interactúa con un API. Se realiza por medio de un programa automatizado que consulta un servidor web, solicita data (en forma de HTML normalmente) y la analiza para extraer información útil para nosotros. \n",
    "\n",
    "Engloba una amplia variedad de técnicas de programación y tecnologías como uso de bases de datos, servidores web, HTTP, HTML, análisis de datos, análisis de lenguaje natural, procesamiento de imágenes, seguridad de información, entre otros. \n",
    "\n",
    "> **¿Por qué Web Scraping?**\n",
    "\n",
    "En caso no exista API o no sea útil para nuestro propósito por múltiples motivos:\n",
    "\n",
    "-  Se reune un pequeño set de datos a través de una colección de sitios web sin una API cohesiva. \n",
    "-  Data requerida es muy pequeña o poco común y el desarrollador no pensó que se necesitaría una API. \n",
    "-  La fuente no cuenta con la infraestructura o habilidad técnica de crear un API.\n",
    "-  Data es valiosa y/o protegida y no hay intención en compartirla. \n",
    "\n",
    "<div class = \"alert alert-block alert-info\">\n",
    "    <b>Si puedes visualizar la data en tu navegador, puedes acceder vía Python script. </b>\n",
    "</div>\n"
   ]
  },
  {
   "cell_type": "markdown",
   "metadata": {},
   "source": []
  },
  {
   "cell_type": "markdown",
   "metadata": {},
   "source": [
    "![Imágen API](data:image/png;base64,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)"
   ]
  },
  {
   "cell_type": "markdown",
   "metadata": {},
   "source": [
    "<h3><center>Definición de API</center></h3>\n",
    "\n",
    "*Application Programming Interface*\n",
    "\n",
    "Es un mecanismo que permite a 2 componentes de software comunicarse entre sí (pese a estar escritos en diferentes lenguajes o con diferentes estructuras) mediante un conjunto de definiciones y protocolos. \n",
    "\n",
    "La palabra interfaz se considera como un contrato de servicio entre 2 aplicaciones(cualquier software con una función distinta). En este contrato se define cómo se comunican mediante solicitudes y respuestas. \n",
    "\n",
    "La documentación de las APIs contiene información sobre cómo los desarrolladores deben estructurar las solicitudes y respuestas, las rutas y los endpoints, como URLs que se pueden solicitar con parámetros(en el path del URL o como un parámetro GET).\n",
    "\n",
    "> **Parámetros en el path de la ruta:**\n",
    "\n",
    "`http://example.com/the-api-route/pathparam`\n",
    "\n",
    "> **Como parámetro GET:**\n",
    "\n",
    "`http://example.com/the-api-route?param1=pathparam`\n",
    "\n",
    "La respuesta del API es usualmente en formato JSON (más popular) o XML. \n",
    "\n",
    "Nos enfocaremos en web APIs que permiten a un servidor web comunicarse con un navegador (API de REST). \n",
    "\n",
    "<h4><b>Beneficios</b></h4>\n",
    "\n",
    "-  Integración\n",
    "-  Innovación\n",
    "-  Ampliación\n",
    "-  Facilidad de mantenimiento\n",
    "\n",
    "<h4><b>Desventajas</b></h4>\n",
    "Si bien es ideal utilizar APIs, estas no siempre se encuentran presentes o no entregan los datos que necesitamos. \n",
    "\n"
   ]
  },
  {
   "cell_type": "markdown",
   "metadata": {},
   "source": [
    "**¡Practiquemos lo aprendido!**\n",
    "\n",
    "¿Cuáles dirías que son las ventajas del Web Scraping sobre el empleo de API?\n",
    "\n",
    "¿Por qué es tan importante que se brinde la documentación de las APIs? \n"
   ]
  },
  {
   "cell_type": "markdown",
   "metadata": {},
   "source": [
    "<h3><center>Buenas Prácticas</center></h3>\n",
    "\n",
    "<h4><b>Manejo de virtual environments </b></h4>\n",
    "\n",
    "Si se planea trabajar con Python en múltiples proyectos, se debe evitar potenciales conflictos entre versiones. Para ello se emplean virtual environments para un mejor manejo de dependencias y mantener librerías separadas por proyecto, de esta manera es más sencillo hacer un zip del folder entero.\n",
    "\n",
    "> *¿Cómo crear un virtual environment en Python?*\n",
    "\n",
    "<code>\n",
    "$ virtualenv scrapingEnv\n",
    "</code>\n",
    "\n",
    "Así se crea un virtual environment llamado scrapingEnv y para utilizarlo debemos activarlo: \n",
    "\n",
    "\n",
    "`$ cd scrapingEnv/`\n",
    " \n",
    "<code>\n",
    "$ source bin/activate \n",
    "</code>\n",
    "\n",
    "Para salir del virtual environment:\n",
    "\n",
    "`(scrapingEnv)usuario$ deactivate`\n",
    "\n",
    "<h4><b>Manejo de excepciones </b></h4>\n",
    "\n",
    "Un navegador web es sólo código que se puede descomponer en componentes básicos, reescribir, reusar y para cualquier cosa que necesitemos. \n",
    "\n",
    "```Python\n",
    "from urllib.request import urlopen\n",
    "\n",
    "html = urlopen('http://pythonscraping.com/pages/page1.html')\n",
    "print(html.read())\n",
    "```\n",
    "\n",
    "> Este comando imprime el código HTML completo de page1.\n",
    "*urllib* es una librearía estándar de Python\n",
    "*.request* es un módulo de la librería urllib, \n",
    "*urlopen* es una función de urllib que abre objetos remotos a través de una red y los lee. \n",
    "\n",
    "*html = urlopen('http://pythonscraping.com/pages/page1.html')*\n",
    "<div class = \"alert alert-block alert-danger\">\n",
    "    2 errores pueden pasar con esta línea de código\n",
    "</div>\n",
    "\n",
    "-  No se encuentra en el servidor la página (o hubo un error al recuperar la página):\n",
    "Esto genera un HTTP error que puede ser \"404 Page Not Found\" o \"500 Internal Server Error\", urlopen va a generar una excepción llamada HTTPError. \n",
    "\n",
    "> *Esta situación se puede manejar de la siguiente manera*\n",
    "\n",
    "```Python\n",
    "from urllib.request import urlopen\n",
    "from urllib.error import HTTPError\n",
    "\n",
    "try:\n",
    "    html = urlopen('http://pythonscraping.com/pages/page1.html')\n",
    "\n",
    "except HTTPError as error:\n",
    "    print(error)\n",
    "\n",
    "else:\n",
    "    #puede continuar con el código\n",
    "```\n",
    "-  No se encuentra el servidor:\n",
    "Urlopen va a generar una excepción llamada URLError. \n",
    "\n",
    "> *Esta situación se puede manejar de la siguiente manera*\n",
    "\n",
    "```Python\n",
    "from urllib.request import urlopen\n",
    "from urllib.error import HTTPError\n",
    "from urllib.error import URLError\n",
    "\n",
    "try:\n",
    "    html = urlopen('http://pythonscraping.com/pages/page1.html')\n",
    "\n",
    "except HTTPError as error:\n",
    "    print(error)\n",
    "\n",
    "except URLError as error:\n",
    "    print(\"No se encontró el servidor\")\n",
    "\n",
    "else:\n",
    "    print(\"Funcionó\")\n",
    "```\n",
    "\n"
   ]
  },
  {
   "cell_type": "markdown",
   "metadata": {},
   "source": [
    "**¡Practiquemos lo aprendido!**\n",
    "\n",
    "Desarrollemos un código para poder abrir un objeto remoto, en este caso la siguiente página: \n",
    "https://es.wikipedia.org/wiki/Albert_Einstein\n",
    "\n",
    "¿Qué librerías importarías?\n",
    "\n",
    "¿Con qué errores nos podríamos encontrar y por ende debemos manejar? \n",
    "\n",
    "¿Qué significa el mensaje HTTP 404?\n"
   ]
  },
  {
   "cell_type": "markdown",
   "metadata": {},
   "source": [
    "<h3><center>HTML</center></h3>\n",
    "\n",
    "![Imágen HTML](https://upload.wikimedia.org/wikipedia/commons/thumb/6/61/HTML5_logo_and_wordmark.svg/2048px-HTML5_logo_and_wordmark.svg.png)\n",
    "\n",
    "Hyper Text Markup Language \n",
    "\n",
    "HTML no es un lenguaje de programación, es un lenguaje de etiquetas para desarrollo de páginas web. Describe los elementos de la página por medio de etiquetas (tags) encerradas en \"<>\".\n"
   ]
  },
  {
   "cell_type": "markdown",
   "metadata": {},
   "source": []
  },
  {
   "cell_type": "code",
   "execution_count": 23,
   "metadata": {
    "vscode": {
     "languageId": "html"
    }
   },
   "outputs": [
    {
     "data": {
      "text/html": [
       "<!--Estructura básica de documento HTML-->\n",
       "<html>\n",
       "<head>\n",
       "<body>\n",
       "<h1>Mi Título principal</h1>\n",
       "<h2>Mi segundo header</h2>\n",
       "<h3>Mi tercer header</h3>\n",
       "</body>\n",
       "</head>\n",
       "</html>\n"
      ],
      "text/plain": [
       "<IPython.core.display.HTML object>"
      ]
     },
     "metadata": {},
     "output_type": "display_data"
    }
   ],
   "source": [
    "%%HTML\n",
    "<!--Estructura básica de documento HTML-->\n",
    "<html>\n",
    "<head>\n",
    "<body>\n",
    "<h1>Mi Título principal</h1>\n",
    "<h2>Mi segundo header</h2>\n",
    "<h3>Mi tercer header</h3>\n",
    "</body>\n",
    "</head>\n",
    "</html>"
   ]
  },
  {
   "cell_type": "markdown",
   "metadata": {},
   "source": [
    "-  El documento siempre inicia y termina con  \"html\" y \"/html\".\n",
    "-  El \"body\"\"/body\" constituye la parte visible del documento HTML.\n",
    "-  \"h1\" a \"h3\" son etiquetas definidas para los encabezados. \n",
    "\n",
    "También se puede agregar un pequeño párrafo debajo del segundo header empreando la etiqueta \"p\"."
   ]
  },
  {
   "cell_type": "code",
   "execution_count": 22,
   "metadata": {
    "vscode": {
     "languageId": "html"
    }
   },
   "outputs": [
    {
     "data": {
      "text/html": [
       "<html>\n",
       "<head>\n",
       "<body>\n",
       "<h1>Mi Título principal</h1>\n",
       "<h2>Mi segundo header</h2>\n",
       "<p>\"Dos cosas son infinitas. El universo y la estupidez humana.\" Albert Einstein</p>\n",
       "<h3>Mi tercer header</h3>\n",
       "</body>\n",
       "</head>\n",
       "</html>\n"
      ],
      "text/plain": [
       "<IPython.core.display.HTML object>"
      ]
     },
     "metadata": {},
     "output_type": "display_data"
    }
   ],
   "source": [
    "%%HTML\n",
    "<html>\n",
    "<head>\n",
    "<body>\n",
    "<h1>Mi Título principal</h1>\n",
    "<h2>Mi segundo header</h2>\n",
    "<p>\"Dos cosas son infinitas. El universo y la estupidez humana.\" Albert Einstein</p>\n",
    "<h3>Mi tercer header</h3>\n",
    "</body>\n",
    "</head>\n",
    "</html>"
   ]
  },
  {
   "cell_type": "markdown",
   "metadata": {},
   "source": [
    "Para ser más informativo se puede agregar un link en la palabra Albert Einistein para redirigir a la página de wikipedia. \n",
    "Se emplea para ello la una etiqueta especial llamada \"a\" para links HTML. \n",
    "Tiene el atributo *href* para especificar el link."
   ]
  },
  {
   "cell_type": "code",
   "execution_count": 24,
   "metadata": {
    "vscode": {
     "languageId": "html"
    }
   },
   "outputs": [
    {
     "data": {
      "text/html": [
       "<html>\n",
       "<head>\n",
       "<body>\n",
       "<h1>Mi Título principal</h1>\n",
       "<h2>Mi segundo header</h2>\n",
       "<p>\"Dos cosas son infinitas. El universo y la estupidez humana.\" <a href=\"https://es.wikipedia.org/wiki/Albert_Einstein\"> Albert Einstein</a></p>\n",
       "<h3>Mi tercer header</h3>\n",
       "</body>\n",
       "</head>\n",
       "</html>\n"
      ],
      "text/plain": [
       "<IPython.core.display.HTML object>"
      ]
     },
     "metadata": {},
     "output_type": "display_data"
    }
   ],
   "source": [
    "%%HTML\n",
    "<html>\n",
    "<head>\n",
    "<body>\n",
    "<h1>Mi Título principal</h1>\n",
    "<h2>Mi segundo header</h2>\n",
    "<p>\"Dos cosas son infinitas. El universo y la estupidez humana.\" <a href=\"https://es.wikipedia.org/wiki/Albert_Einstein\"> Albert Einstein</a></p>\n",
    "<h3>Mi tercer header</h3>\n",
    "</body>\n",
    "</head>\n",
    "</html>"
   ]
  },
  {
   "cell_type": "markdown",
   "metadata": {},
   "source": [
    "También podemos insertar una imágen de Albert Einstein. Para ello empleados la etiqueta \"img\" que tiene el atributo *src* para especificar el URL de la imágen. "
   ]
  },
  {
   "cell_type": "code",
   "execution_count": 25,
   "metadata": {
    "vscode": {
     "languageId": "html"
    }
   },
   "outputs": [
    {
     "data": {
      "text/html": [
       "<html>\n",
       "<head>\n",
       "<body>\n",
       "<h1>Mi Título principal</h1>\n",
       "<h2>Mi segundo header</h2>\n",
       "<p>\"Dos cosas son infinitas. El universo y la estupidez humana.\" <a href=\"https://es.wikipedia.org/wiki/Albert_Einstein\"> Albert Einstein</a></p>\n",
       "<img src=\"https://upload.wikimedia.org/wikipedia/commons/thumb/d/d3/Albert_Einstein_Head.jpg/220px-Albert_Einstein_Head.jpg\">\n",
       "</body>\n",
       "</head>\n",
       "</html>\n"
      ],
      "text/plain": [
       "<IPython.core.display.HTML object>"
      ]
     },
     "metadata": {},
     "output_type": "display_data"
    }
   ],
   "source": [
    "%%HTML\n",
    "<html>\n",
    "<head>\n",
    "<body>\n",
    "<h1>Mi Título principal</h1>\n",
    "<h2>Mi segundo header</h2>\n",
    "<p>\"Dos cosas son infinitas. El universo y la estupidez humana.\" <a href=\"https://es.wikipedia.org/wiki/Albert_Einstein\"> Albert Einstein</a></p>\n",
    "<img src=\"https://upload.wikimedia.org/wikipedia/commons/thumb/d/d3/Albert_Einstein_Head.jpg/220px-Albert_Einstein_Head.jpg\">\n",
    "</body>\n",
    "</head>\n",
    "</html>"
   ]
  },
  {
   "cell_type": "markdown",
   "metadata": {},
   "source": [
    "**Clases e ID**\n",
    "\n",
    "-  El *id* es un atributo que especifica el ID único de un elemento. \n",
    "-  La clase es el atributo para definir un elemento distinto con un mismo nombre de clase. \n",
    "\n",
    "Ambos se definen en la etiqueta \"style\" y las propiedades se definen entre {}.\n",
    "La sintáxis para la clase necesita un \".\" seguido del nombre de la clase, mientras que el ID necesita un \"#\" seguido del nombre del iD. \n",
    "\n",
    "Una vez creados en la etiquete style, se pasan los elementos deseados. \n",
    "En este caso el ID se llama en \"h1\" y la clase en \"p\". \n",
    "\n",
    "> Se emplea también la \"i\" y la \"b\" para mostrar el texto en *itálica* y en **negritas** respectivamente. "
   ]
  },
  {
   "cell_type": "code",
   "execution_count": null,
   "metadata": {
    "vscode": {
     "languageId": "html"
    }
   },
   "outputs": [
    {
     "data": {
      "text/html": [
       "<html>\n",
       "<head>\n",
       "<style>\n",
       "    #mititutlo {\n",
       "        font-size: 60;\n",
       "        color: blue;\n",
       "    }\n",
       "    .cit {\n",
       "        background-color: pink;\n",
       "        color: white;\n",
       "        font-family: Arial, Helvetica, sans-serif;\n",
       "    }\n",
       "</style>\n",
       "<body>\n",
       "<h1 id=\"mititulo\">Mi Título principal</h1>\n",
       "<h2>Mi segundo header</h2>\n",
       "<p class=\"cit\">\"<i>Dos cosas son infinitas. El universo y la estupidez humana</i>.\" <a href=\"https://es.wikipedia.org/wiki/Albert_Einstein\"> Albert Einstein</a></p>\n",
       "<p class=\"cit\">\"<i>La imaginación es más importante que el conocimiento</i>.\"<b>Albert Einstein</b></p>\n",
       "<img src=\"https://upload.wikimedia.org/wikipedia/commons/thumb/d/d3/Albert_Einstein_Head.jpg/220px-Albert_Einstein_Head.jpg\">\n",
       "</body>\n",
       "</head>\n",
       "</html>\n"
      ],
      "text/plain": [
       "<IPython.core.display.HTML object>"
      ]
     },
     "metadata": {},
     "output_type": "display_data"
    }
   ],
   "source": [
    "%%HTML\n",
    "<html>\n",
    "<head>\n",
    "<style>\n",
    "    #mititutlo {\n",
    "        font-size: 60;\n",
    "        color: white;\n",
    "    }\n",
    "    .cit {\n",
    "        background-color: pink;\n",
    "        color: white;\n",
    "        font-family: Arial, Helvetica, sans-serif;\n",
    "    }\n",
    "</style>\n",
    "<body>\n",
    "<h1 id=\"mititulo\">Mi Título principal</h1>\n",
    "<h2>Mi segundo header</h2>\n",
    "<p class=\"cit\">\"<i>Dos cosas son infinitas. El universo y la estupidez humana</i>.\" <a href=\"https://es.wikipedia.org/wiki/Albert_Einstein\"> Albert Einstein</a></p>\n",
    "<p class=\"cit\">\"<i>La imaginación es más importante que el conocimiento</i>.\"<b>Albert Einstein</b></p>\n",
    "<img src=\"https://upload.wikimedia.org/wikipedia/commons/thumb/d/d3/Albert_Einstein_Head.jpg/220px-Albert_Einstein_Head.jpg\">\n",
    "</body>\n",
    "</head>\n",
    "</html>"
   ]
  },
  {
   "cell_type": "markdown",
   "metadata": {},
   "source": [
    "**Tablas**\n",
    "\n",
    "Las tablas en HTML se definen con la etiqueta \"table\"  y dentro de esta hay 3 etiquetas principales: \n",
    "-  \"tr\" usada para construir filas\n",
    "-  \"th\" usado para definir el header\n",
    "-  \"td\" usado para definir una celda en una fila "
   ]
  },
  {
   "cell_type": "markdown",
   "metadata": {},
   "source": []
  },
  {
   "cell_type": "code",
   "execution_count": 28,
   "metadata": {
    "vscode": {
     "languageId": "html"
    }
   },
   "outputs": [
    {
     "data": {
      "text/html": [
       "<html>\n",
       "<head>\n",
       "<style>\n",
       "    table,th,td {\n",
       "        border: 1px solid black;\n",
       "        border-collapse: collapse;\n",
       "    } \n",
       "</style>\n",
       "<body>\n",
       "<h1>Mi Título principal</h1>\n",
       "<h2>Mi segundo header</h2>\n",
       "<p>\"<i>Dos cosas son infinitas. El universo y la estupidez humana</i>.\" <a href=\"https://es.wikipedia.org/wiki/Albert_Einstein\"> Albert Einstein</a></p>\n",
       "<p>\"<i>La imaginación es más importante que el conocimiento</i>.\"<b>Albert Einstein</b></p>\n",
       "<table>\n",
       "    <tr><th>Descubrimientos</th></tr>\n",
       "    <tr><td>Relatividad especial</td></tr>\n",
       "    <tr><td>Relatividad general</td></tr>\n",
       "</table>\n",
       "</body>\n",
       "</head>\n",
       "</html>\n"
      ],
      "text/plain": [
       "<IPython.core.display.HTML object>"
      ]
     },
     "metadata": {},
     "output_type": "display_data"
    }
   ],
   "source": [
    "%%HTML\n",
    "<html>\n",
    "<head>\n",
    "<style>\n",
    "    table,th,td {\n",
    "        border: 1px solid black;\n",
    "        border-collapse: collapse;\n",
    "    } \n",
    "</style>\n",
    "<body>\n",
    "<h1>Mi Título principal</h1>\n",
    "<h2>Mi segundo header</h2>\n",
    "<p>\"<i>Dos cosas son infinitas. El universo y la estupidez humana</i>.\" <a href=\"https://es.wikipedia.org/wiki/Albert_Einstein\"> Albert Einstein</a></p>\n",
    "<p>\"<i>La imaginación es más importante que el conocimiento</i>.\"<b>Albert Einstein</b></p>\n",
    "<table>\n",
    "    <tr><th>Descubrimientos</th></tr>\n",
    "    <tr><td>Relatividad especial</td></tr>\n",
    "    <tr><td>Relatividad general</td></tr>\n",
    "</table>\n",
    "</body>\n",
    "</head>\n",
    "</html>"
   ]
  },
  {
   "cell_type": "markdown",
   "metadata": {},
   "source": [
    "> border-collapse collapse se especifica para no tener un doble borde\n",
    "\n",
    "**Listas**\n",
    "\n",
    "Hay 2 tipos de listas definidas en HTML. \n",
    "-  \"ul\" es la etiqueta para listas no ordenadas \n",
    "-  \"ol\" es la etiqueta para listas ordenadas \n",
    "Cada item de la lista se especifica con la etiqueta \"li\""
   ]
  },
  {
   "cell_type": "code",
   "execution_count": 29,
   "metadata": {
    "vscode": {
     "languageId": "html"
    }
   },
   "outputs": [
    {
     "data": {
      "text/html": [
       "<html>\n",
       "<head>\n",
       "<body>\n",
       "<h1>Mi Título principal</h1>\n",
       "<h2>Mi segundo header</h2>\n",
       "<p>\"<i>Dos cosas son infinitas. El universo y la estupidez humana</i>.\" <a href=\"https://es.wikipedia.org/wiki/Albert_Einstein\"> Albert Einstein</a></p>\n",
       "<p>\"<i>La imaginación es más importante que el conocimiento</i>.\"<b>Albert Einstein</b></p>\n",
       "<p>Descubrimientos</p>\n",
       "<ul>\n",
       "    <li>Relatividad especial</li>\n",
       "    <li>Relatividad general</li>\n",
       "</ul>\n",
       "<p>Premios</p>\n",
       "<ol>\n",
       "    <li>Medalla Max Planck</li>\n",
       "    <li>Premio Nobel en Física</li>\n",
       "</ol>\n",
       "</body>\n",
       "</head>\n",
       "</html>\n"
      ],
      "text/plain": [
       "<IPython.core.display.HTML object>"
      ]
     },
     "metadata": {},
     "output_type": "display_data"
    }
   ],
   "source": [
    "%%HTML\n",
    "<html>\n",
    "<head>\n",
    "<body>\n",
    "<h1>Mi Título principal</h1>\n",
    "<h2>Mi segundo header</h2>\n",
    "<p>\"<i>Dos cosas son infinitas. El universo y la estupidez humana</i>.\" <a href=\"https://es.wikipedia.org/wiki/Albert_Einstein\"> Albert Einstein</a></p>\n",
    "<p>\"<i>La imaginación es más importante que el conocimiento</i>.\"<b>Albert Einstein</b></p>\n",
    "<p>Descubrimientos</p>\n",
    "<ul>\n",
    "    <li>Relatividad especial</li>\n",
    "    <li>Relatividad general</li>\n",
    "</ul>\n",
    "<p>Premios</p>\n",
    "<ol>\n",
    "    <li>Medalla Max Planck</li>\n",
    "    <li>Premio Nobel en Física</li>\n",
    "</ol>\n",
    "</body>\n",
    "</head>\n",
    "</html>"
   ]
  },
  {
   "cell_type": "markdown",
   "metadata": {},
   "source": [
    "**Bloques o Contenedores**\n",
    "\n",
    "Los elementos más comunes que se encuentran en una página web. \n",
    "Útiles para agrupar diferentes elementos y aplicar las mismas propiedades. \n",
    "\n",
    "Siguiendo el ejemplo anterior, los elementos desde \"h1\" hasta \"h2\", \"p\",\"ul\",\"ol\" pueden formar parte de un bloque. \n",
    "\n",
    "Si queremos dividir la pagina en 2 partes debemos crear 2 bloques. Para ello, tengo que especificar la etiqueta \"div\". Se define la clase \"row\" donde detallamos la estructura de las 2 partes en la misma fila, y una clase llamada \"column\" para especificar las propiedades de cada mitad de la página. \n",
    "\n",
    "> El * se utiliza para seleccionar todos los elementos y aplicar la propiedad \"box-sizing\" equivalente a \"border-box\"."
   ]
  },
  {
   "cell_type": "code",
   "execution_count": 33,
   "metadata": {
    "vscode": {
     "languageId": "html"
    }
   },
   "outputs": [
    {
     "data": {
      "text/html": [
       "<html>\n",
       "<head>\n",
       "<style>\n",
       "    *{\n",
       "        box-sizing: border-box;\n",
       "    }\n",
       "\n",
       "    .column {\n",
       "        float: left;\n",
       "        width: 50%;\n",
       "        padding: 10px;\n",
       "        height: 300px;\n",
       "    }\n",
       "    .row::after {\n",
       "        content: \"\";\n",
       "        display: table;\n",
       "        clear: both;\n",
       "    }\n",
       "</style>\n",
       "<body>\n",
       "<h2>Glosario</h2>\n",
       "<div class=\"row\">\n",
       "    <div class=\"column\" style=\"background-color:salmon;\">\n",
       "        <h2>Relatividad General</h2>\n",
       "        <p>Relatividad general, también conocido como la teoría general de la relativida.</p>\n",
       "    </div>\n",
       "    <div class=\"column\" style=\"background-color:mediumturquoise;\">\n",
       "        <h2>Relatividad Especial</h2>\n",
       "        <p>En física, la teoría de la relatividad especial es una teoría científica con respecto a la relación entre espacio y tiempo.</p>\n",
       "    </div>\n",
       "</div>\n",
       "\n",
       "</body>\n",
       "</head>\n",
       "</html>\n"
      ],
      "text/plain": [
       "<IPython.core.display.HTML object>"
      ]
     },
     "metadata": {},
     "output_type": "display_data"
    }
   ],
   "source": [
    "%%HTML\n",
    "<html>\n",
    "<head>\n",
    "<style>\n",
    "    *{\n",
    "        box-sizing: border-box;\n",
    "    }\n",
    "\n",
    "    .column {\n",
    "        float: left;\n",
    "        width: 50%;\n",
    "        padding: 10px;\n",
    "        height: 300px;\n",
    "    }\n",
    "    .row::after {\n",
    "        content: \"\";\n",
    "        display: table;\n",
    "        clear: both;\n",
    "    }\n",
    "</style>\n",
    "<body>\n",
    "<h2>Glosario</h2>\n",
    "<div class=\"row\">\n",
    "    <div class=\"column\" style=\"background-color:salmon;\">\n",
    "        <h2>Relatividad General</h2>\n",
    "        <p>Relatividad general, también conocido como la teoría general de la relativida.</p>\n",
    "    </div>\n",
    "    <div class=\"column\" style=\"background-color:mediumturquoise;\">\n",
    "        <h2>Relatividad Especial</h2>\n",
    "        <p>En física, la teoría de la relatividad especial es una teoría científica con respecto a la relación entre espacio y tiempo.</p>\n",
    "    </div>\n",
    "</div>\n",
    "\n",
    "</body>\n",
    "</head>\n",
    "</html>"
   ]
  },
  {
   "cell_type": "markdown",
   "metadata": {},
   "source": [
    "Finalmente, \"span\" es un contenedor en línea que sirve para aplicar estilo al texto o agrupar elementos en línea. \n"
   ]
  },
  {
   "cell_type": "code",
   "execution_count": 34,
   "metadata": {
    "vscode": {
     "languageId": "html"
    }
   },
   "outputs": [
    {
     "data": {
      "text/html": [
       "<html>\n",
       "<head>\n",
       "    <body>\n",
       "        <div style=\"border: 1px dotted blue;\">\n",
       "            <h4>Ejemplo de div y span </h4>\n",
       "             <p>\n",
       "              Esto es un párrafo dentro de un div,\n",
       "               <span style=\"color: red;\"> y esto un span dentro de un párrafo. </span>\n",
       "             </p>\n",
       "           </div>\n",
       "    </body>\n",
       "</head>\n",
       "</html>\n"
      ],
      "text/plain": [
       "<IPython.core.display.HTML object>"
      ]
     },
     "metadata": {},
     "output_type": "display_data"
    }
   ],
   "source": [
    "%%HTML\n",
    "<html>\n",
    "<head>\n",
    "    <body>\n",
    "        <div style=\"border: 1px dotted blue;\">\n",
    "            <h4>Ejemplo de div y span </h4>\n",
    "             <p>\n",
    "              Esto es un párrafo dentro de un div,\n",
    "               <span style=\"color: red;\"> y esto un span dentro de un párrafo. </span>\n",
    "             </p>\n",
    "           </div>\n",
    "    </body>\n",
    "</head>\n",
    "</html>"
   ]
  },
  {
   "cell_type": "markdown",
   "metadata": {},
   "source": [
    "**¡Practiquemos lo aprendido!**\n",
    "\n",
    "¿Qué son las etiquetas?\n",
    "\n",
    "¿Todas las etiquetas HTML vienen en pares?\n",
    "\n",
    "¿Para qué sirve style?\n",
    "\n"
   ]
  }
 ],
 "metadata": {
  "kernelspec": {
   "display_name": "Python 3 (ipykernel)",
   "language": "python",
   "name": "python3"
  },
  "language_info": {
   "codemirror_mode": {
    "name": "ipython",
    "version": 3
   },
   "file_extension": ".py",
   "mimetype": "text/x-python",
   "name": "python",
   "nbconvert_exporter": "python",
   "pygments_lexer": "ipython3",
   "version": "3.9.12"
  },
  "vscode": {
   "interpreter": {
    "hash": "aee8b7b246df8f9039afb4144a1f6fd8d2ca17a180786b69acc140d282b71a49"
   }
  }
 },
 "nbformat": 4,
 "nbformat_minor": 4
}
