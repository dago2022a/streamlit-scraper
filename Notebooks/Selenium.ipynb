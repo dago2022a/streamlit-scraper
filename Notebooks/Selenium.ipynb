{
 "cells": [
  {
   "cell_type": "markdown",
   "id": "ceb6e9dd",
   "metadata": {},
   "source": [
    "## Librería Selenium"
   ]
  },
  {
   "cell_type": "code",
   "execution_count": 1,
   "id": "1352ee3a",
   "metadata": {},
   "outputs": [
    {
     "name": "stdout",
     "output_type": "stream",
     "text": [
      "Requirement already satisfied: selenium in c:\\users\\erili\\anaconda3\\envs\\mientorno\\lib\\site-packages (4.34.2)\n",
      "Requirement already satisfied: urllib3~=2.5.0 in c:\\users\\erili\\anaconda3\\envs\\mientorno\\lib\\site-packages (from urllib3[socks]~=2.5.0->selenium) (2.5.0)\n",
      "Requirement already satisfied: trio~=0.30.0 in c:\\users\\erili\\anaconda3\\envs\\mientorno\\lib\\site-packages (from selenium) (0.30.0)\n",
      "Requirement already satisfied: trio-websocket~=0.12.2 in c:\\users\\erili\\anaconda3\\envs\\mientorno\\lib\\site-packages (from selenium) (0.12.2)\n",
      "Requirement already satisfied: certifi>=2025.6.15 in c:\\users\\erili\\anaconda3\\envs\\mientorno\\lib\\site-packages (from selenium) (2025.7.14)\n",
      "Requirement already satisfied: typing_extensions~=4.14.0 in c:\\users\\erili\\anaconda3\\envs\\mientorno\\lib\\site-packages (from selenium) (4.14.1)\n",
      "Requirement already satisfied: websocket-client~=1.8.0 in c:\\users\\erili\\anaconda3\\envs\\mientorno\\lib\\site-packages (from selenium) (1.8.0)\n",
      "Requirement already satisfied: attrs>=23.2.0 in c:\\users\\erili\\anaconda3\\envs\\mientorno\\lib\\site-packages (from trio~=0.30.0->selenium) (24.3.0)\n",
      "Requirement already satisfied: sortedcontainers in c:\\users\\erili\\anaconda3\\envs\\mientorno\\lib\\site-packages (from trio~=0.30.0->selenium) (2.4.0)\n",
      "Requirement already satisfied: idna in c:\\users\\erili\\anaconda3\\envs\\mientorno\\lib\\site-packages (from trio~=0.30.0->selenium) (3.7)\n",
      "Requirement already satisfied: outcome in c:\\users\\erili\\anaconda3\\envs\\mientorno\\lib\\site-packages (from trio~=0.30.0->selenium) (1.3.0.post0)\n",
      "Requirement already satisfied: sniffio>=1.3.0 in c:\\users\\erili\\anaconda3\\envs\\mientorno\\lib\\site-packages (from trio~=0.30.0->selenium) (1.3.0)\n",
      "Requirement already satisfied: cffi>=1.14 in c:\\users\\erili\\anaconda3\\envs\\mientorno\\lib\\site-packages (from trio~=0.30.0->selenium) (1.17.1)\n",
      "Requirement already satisfied: wsproto>=0.14 in c:\\users\\erili\\anaconda3\\envs\\mientorno\\lib\\site-packages (from trio-websocket~=0.12.2->selenium) (1.2.0)\n",
      "Requirement already satisfied: pysocks!=1.5.7,<2.0,>=1.5.6 in c:\\users\\erili\\anaconda3\\envs\\mientorno\\lib\\site-packages (from urllib3[socks]~=2.5.0->selenium) (1.7.1)\n",
      "Requirement already satisfied: pycparser in c:\\users\\erili\\anaconda3\\envs\\mientorno\\lib\\site-packages (from cffi>=1.14->trio~=0.30.0->selenium) (2.21)\n",
      "Requirement already satisfied: h11<1,>=0.9.0 in c:\\users\\erili\\anaconda3\\envs\\mientorno\\lib\\site-packages (from wsproto>=0.14->trio-websocket~=0.12.2->selenium) (0.16.0)\n"
     ]
    }
   ],
   "source": [
    "## instalación de la librería\n",
    "!pip install selenium"
   ]
  },
  {
   "cell_type": "markdown",
   "id": "8b076a3e",
   "metadata": {},
   "source": [
    "### 1. Webdriver"
   ]
  },
  {
   "cell_type": "code",
   "execution_count": 4,
   "id": "fade2807",
   "metadata": {},
   "outputs": [],
   "source": [
    "###################### Chrome ####################"
   ]
  },
  {
   "cell_type": "code",
   "execution_count": 15,
   "id": "3ff4a4de",
   "metadata": {},
   "outputs": [],
   "source": [
    "from selenium import webdriver\n",
    "\n",
    "driver=webdriver.Chrome()\n",
    "driver.get(\"https://es.wikipedia.org/wiki/George_Lucas\")"
   ]
  },
  {
   "cell_type": "code",
   "execution_count": 14,
   "id": "62a06fca",
   "metadata": {},
   "outputs": [],
   "source": [
    "### modo incognito ###\n",
    "from selenium import webdriver\n",
    "from selenium.webdriver.chrome.options import Options\n",
    "\n",
    "#### configuraciones de las opciones de chrome\n",
    "chrome_options=Options()\n",
    "chrome_options.add_argument(\"--incognito\")\n",
    "\n",
    "### creamos una instancia de webdriver \n",
    "driver=webdriver.Chrome(options=chrome_options) \n",
    "\n",
    "driver.get(\"https://www.python.org/\")"
   ]
  },
  {
   "cell_type": "code",
   "execution_count": 16,
   "id": "9d0c952c",
   "metadata": {},
   "outputs": [
    {
     "name": "stdout",
     "output_type": "stream",
     "text": [
      "Welcome to Python.org\n"
     ]
    }
   ],
   "source": [
    "### modo headless ###\n",
    "from selenium import webdriver\n",
    "from selenium.webdriver.chrome.options import Options\n",
    "\n",
    "#### configuraciones de las opciones de chrome\n",
    "chrome_options=Options()\n",
    "chrome_options.add_argument(\"--headless\") ################# SIN INTERFAZ GRÁFICA #########\n",
    "\n",
    "### creamos una instancia de webdriver \n",
    "driver=webdriver.Chrome(options=chrome_options) \n",
    "\n",
    "driver.get(\"https://www.python.org/\")\n",
    "print(driver.title)"
   ]
  },
  {
   "cell_type": "code",
   "execution_count": 9,
   "id": "e27f9925",
   "metadata": {},
   "outputs": [
    {
     "ename": "SyntaxError",
     "evalue": "invalid syntax (2948551428.py, line 2)",
     "output_type": "error",
     "traceback": [
      "\u001b[1;36m  Cell \u001b[1;32mIn[9], line 2\u001b[1;36m\u001b[0m\n\u001b[1;33m    https://www.chromedriverdownload.net/en/download/chromedriver-123.0.6312.58-linux64\u001b[0m\n\u001b[1;37m          ^\u001b[0m\n\u001b[1;31mSyntaxError\u001b[0m\u001b[1;31m:\u001b[0m invalid syntax\n"
     ]
    }
   ],
   "source": [
    "###################### Chrome ####################  - SERVICIO\n",
    "https://www.chromedriverdownload.net/en/download/chromedriver-123.0.6312.58-linux64"
   ]
  },
  {
   "cell_type": "code",
   "execution_count": 19,
   "id": "5bfa7a8b",
   "metadata": {},
   "outputs": [
    {
     "name": "stdout",
     "output_type": "stream",
     "text": [
      "Welcome to Python.org\n"
     ]
    }
   ],
   "source": [
    "from selenium import webdriver\n",
    "from selenium.webdriver.chrome.service import Service\n",
    "from selenium.webdriver.chrome.options import Options\n",
    "\n",
    "chrome_service=Service(r\"C:\\Users\\jcama\\Downloads\\chromedriver-win64 (2)\\chromedriver-win64\\chromedriver.exe\")\n",
    "\n",
    "### creamos una instancia de webdriver \n",
    "driver=webdriver.Chrome(service=chrome_service)\n",
    "driver.get(\"https://www.python.org/\")\n",
    "print(driver.title)"
   ]
  },
  {
   "cell_type": "code",
   "execution_count": null,
   "id": "b7c0cd3e",
   "metadata": {},
   "outputs": [],
   "source": [
    "###################### Edge  ####################\n",
    "https://developer.microsoft.com/en-us/microsoft-edge/tools/webdriver/?form=MA13LH"
   ]
  },
  {
   "cell_type": "code",
   "execution_count": null,
   "id": "512253a5",
   "metadata": {},
   "outputs": [
    {
     "name": "stdout",
     "output_type": "stream",
     "text": [
      "Welcome to Python.org\n"
     ]
    }
   ],
   "source": [
    "\n",
    "from selenium import webdriver\n",
    "from selenium.webdriver.edge.service import Service\n",
    "from selenium.webdriver.edge.options import Options\n",
    "\n",
    "edge_service=Service(r'C:\\Users\\arqze\\OneDrive\\Escritorio\\WEBSCRAPING_PYTHON\\ejercicios_ws\\webdriver\\edgedriver_win64 (3)\\msedgedriver.exe')\n",
    "\n",
    "edge_options=Options()\n",
    "edge_options.add_argument(\"--headless\")\n",
    "\n",
    "### creamos una instancia de webdriver \n",
    "driver=webdriver.Edge(service=edge_service,options=edge_options)\n",
    "driver.get(\"https://www.python.org/\")\n",
    "print(driver.title)"
   ]
  },
  {
   "cell_type": "code",
   "execution_count": null,
   "id": "646f1676",
   "metadata": {},
   "outputs": [],
   "source": [
    "###################### Firefox  ####################\n",
    "https://github.com/mozilla/geckodriver/releases"
   ]
  },
  {
   "cell_type": "code",
   "execution_count": null,
   "id": "119b2dc0",
   "metadata": {},
   "outputs": [
    {
     "name": "stdout",
     "output_type": "stream",
     "text": [
      "Welcome to Python.org\n"
     ]
    }
   ],
   "source": [
    "from selenium import webdriver\n",
    "from selenium.webdriver.firefox.service import Service\n",
    "from selenium.webdriver.firefox.options import Options\n",
    "\n",
    "firefox_service=Service(r'C:\\Users\\arqze\\OneDrive\\Escritorio\\WEBSCRAPING_PYTHON\\ejercicios_ws\\webdriver\\geckodriver-v0.35.0-win64 (2)\\geckodriver.exe')\n",
    "\n",
    "firefox_options=Options()\n",
    "firefox_options.add_argument(\"--headless\")\n",
    "\n",
    "### creamos una instancia de webdriver \n",
    "driver=webdriver.Firefox(service=firefox_service,options=firefox_options)\n",
    "driver.get(\"https://www.python.org/\")\n",
    "print(driver.title)"
   ]
  },
  {
   "cell_type": "code",
   "execution_count": null,
   "id": "d3de6bfa",
   "metadata": {},
   "outputs": [],
   "source": [
    "### 20 minutos \n",
    "### 4:20 volvemos "
   ]
  },
  {
   "cell_type": "markdown",
   "id": "fcaf9f78",
   "metadata": {},
   "source": [
    "### 2. Locators"
   ]
  },
  {
   "cell_type": "code",
   "execution_count": null,
   "id": "7f0fbd8a",
   "metadata": {},
   "outputs": [
    {
     "data": {
      "text/plain": [
       "'C:\\\\Users\\\\arqze\\\\OneDrive\\\\Escritorio\\\\WEBSCRAPING_PYTHON\\\\ejercicios_ws'"
      ]
     },
     "execution_count": 18,
     "metadata": {},
     "output_type": "execute_result"
    }
   ],
   "source": [
    "pwd()"
   ]
  },
  {
   "cell_type": "code",
   "execution_count": null,
   "id": "92a1502d",
   "metadata": {},
   "outputs": [
    {
     "name": "stdout",
     "output_type": "stream",
     "text": [
      "Overwriting selenium_ejemplo.html\n"
     ]
    }
   ],
   "source": [
    "%%writefile  selenium_ejemplo.html\n",
    "<!DOCTYPE html>\n",
    "<html lang=\"en\">\n",
    "<head>\n",
    "    <meta charset=\"UTF-8\">\n",
    "    <title>Selenium Example</title>\n",
    "</head>\n",
    "  <body>\n",
    "    <h1>Título - Noticias</h1>\n",
    "    <p class=\"text\">Este es un párrafo.</p>\n",
    "    <p class=\"text\">Otro Párrafo.</p>\n",
    "    <div>\n",
    "       <h1 class='estilo1'>Título Contenedor 1</h1>\n",
    "       <h2>Subtítulo Contenedor 1</h2>\n",
    "       <a href=\"http://example.com/pagina1\">Primer Enlace 1</a>\n",
    "       <p>Primer Párrafo en el primer div</p>\n",
    "    </div>\n",
    "    \n",
    "    <div id='second' class='content' >\n",
    "       <h1 class='estilo1'>Título Contenedor 2</h1>\n",
    "       <h2 class='titulo2'>Subtítulo Contenedor 2</h2>\n",
    "       <p>Primer Párrafo en  segundo div</p>\n",
    "       <a href=\"http://example.com/pagina2\" class='enlace'>Segundo Enlace 2</a>\n",
    "       <a href=\"http://example.com/pagina3\">Segundo Enlace 3</a>\n",
    "       <a href=\"http://index.com/pagina3\">Segundo Enlace 4</a>\n",
    "       <a href=\"https://example.com\">example.com</a>\n",
    "       <p>Segundo Párrafo en  segundo div</p>\n",
    "    </div>\n",
    "    \n",
    "    <input type=\"email\" name=\"user_email\" placeholder=\"Ingrese Email\" />\n",
    "    <input type=\"submit\" value=\"Enviar\" />\n",
    "    \n",
    "    <ul>\n",
    "      <li>First item</li>\n",
    "      <li>Second item</li>\n",
    "      <li>Third item</li>\n",
    "    </ul>\n",
    "    \n",
    "    <input type=\"radio\" name=\"option\" value=\"1\" id=\"option1\"> Option 1\n",
    "    <input type=\"radio\" name=\"option\" value=\"2\" id=\"option2\"> Option 2\n",
    "    <input type=\"password\" id=\"passwordInput\">\n",
    "    \n",
    "     <div>\n",
    "      <section>\n",
    "        <article>\n",
    "          <p>Paragraph inside article</p>\n",
    "        </article>\n",
    "      </section>\n",
    "     </div>\n",
    "        \n",
    "    <img src=\"image.jpg\" alt=\"Example Image\" id=\"exampleImage\">\n",
    "    <div data-info=\"12345\" id=\"infoDiv\">Info</div>\n",
    "    \n",
    "    \n",
    "   <section id=\"section1\">\n",
    "        <h2 class=\"section-title\">Section 1</h2>\n",
    "        <p class=\"description\">This is the first section.</p>\n",
    "        <button name=\"action-btn\">Click Me!</button>\n",
    "    </section>\n",
    "\n",
    "    <section id=\"section2\">\n",
    "        <h2 class=\"section-title\">Section 2</h2>\n",
    "        <p class=\"description\">This is the second section.</p>\n",
    "        <button name=\"action-btn\">Click Me!</button>\n",
    "    </section>\n",
    "    \n",
    "    <section id=\"section2\">\n",
    "        <h2 class=\"section-title\">Section 2</h2>\n",
    "        <p class=\"description\">This is the second section.</p>\n",
    "        <button name=\"action-btn\">Prueba</button>\n",
    "    </section>    \n",
    "    \n",
    "    <div id=\"footer\" name='autor'>\n",
    "      <p>Autor: Autor Anónimo</p>\n",
    "    </div>\n",
    "    \n",
    "  </body>\n",
    "</html>\n"
   ]
  },
  {
   "cell_type": "code",
   "execution_count": null,
   "id": "5839a159",
   "metadata": {},
   "outputs": [],
   "source": [
    "######################################## FIND ELEMENT ###########################"
   ]
  },
  {
   "cell_type": "code",
   "execution_count": null,
   "id": "922ad766",
   "metadata": {},
   "outputs": [],
   "source": [
    "########## levantando la página ############\n",
    "\n",
    "from selenium import webdriver\n",
    "\n",
    "#archivo_html='C:\\Users\\arqze\\OneDrive\\Escritorio\\WEBSCRAPING_PYTHON\\ejercicios_ws'\n",
    "\n",
    "driver=webdriver.Chrome()\n",
    "driver.get(r'C:\\Users\\arqze\\OneDrive\\Escritorio\\WEBSCRAPING_PYTHON\\ejercicios_ws\\selenium_ejemplo.html')"
   ]
  },
  {
   "cell_type": "code",
   "execution_count": null,
   "id": "2b3aa643",
   "metadata": {},
   "outputs": [],
   "source": [
    "################### 1. Ahora find_element(By.ID, \"\") , Antes find_element_by_id   ###################"
   ]
  },
  {
   "cell_type": "code",
   "execution_count": null,
   "id": "3cb59697",
   "metadata": {},
   "outputs": [
    {
     "name": "stdout",
     "output_type": "stream",
     "text": [
      "Título Contenedor 2\n",
      "Subtítulo Contenedor 2\n",
      "Primer Párrafo en segundo div\n",
      "Segundo Enlace 2 Segundo Enlace 3 Segundo Enlace 4 example.com\n",
      "Segundo Párrafo en segundo div\n"
     ]
    }
   ],
   "source": [
    "from selenium.webdriver.common.by import By\n",
    "\n",
    "elemento_id=driver.find_element(By.ID,\"second\")\n",
    "print(elemento_id.text)"
   ]
  },
  {
   "cell_type": "code",
   "execution_count": null,
   "id": "f6801850",
   "metadata": {},
   "outputs": [
    {
     "name": "stdout",
     "output_type": "stream",
     "text": [
      "<selenium.webdriver.remote.webelement.WebElement (session=\"83970976ddefd6bc3a0b06579d4d988b\", element=\"f.A16397F5BF787BDC8808409863A523DC.d.79065A3D9C6D76B6D2D0B9DF2EC462A1.e.11\")>\n"
     ]
    }
   ],
   "source": [
    "print(elemento_id)"
   ]
  },
  {
   "cell_type": "code",
   "execution_count": null,
   "id": "b0e62cce",
   "metadata": {},
   "outputs": [],
   "source": [
    "################### 2. Ahora find_element(By.CLASS_NAME, \"\") , Antes find_element_by_class_name  ###################"
   ]
  },
  {
   "cell_type": "code",
   "execution_count": null,
   "id": "2ca47b91",
   "metadata": {},
   "outputs": [
    {
     "name": "stdout",
     "output_type": "stream",
     "text": [
      "Este es un párrafo.\n"
     ]
    }
   ],
   "source": [
    "from selenium.webdriver.common.by import By\n",
    "\n",
    "elemento_clase=driver.find_element(By.CLASS_NAME,\"text\")\n",
    "print(elemento_clase.text)"
   ]
  },
  {
   "cell_type": "code",
   "execution_count": null,
   "id": "280c35b1",
   "metadata": {},
   "outputs": [],
   "source": [
    "################ 3. Ahora find_element(By.NAME, \"\") , Antes find_element_by_name  ###################"
   ]
  },
  {
   "cell_type": "code",
   "execution_count": 25,
   "id": "099490c0",
   "metadata": {},
   "outputs": [
    {
     "name": "stdout",
     "output_type": "stream",
     "text": [
      "Autor: Autor Anónimo\n"
     ]
    }
   ],
   "source": [
    "from selenium.webdriver.common.by import By\n",
    "\n",
    "elemento_name=driver.find_element(By.NAME,\"autor\")\n",
    "print(elemento_name.text)"
   ]
  },
  {
   "cell_type": "code",
   "execution_count": null,
   "id": "157dfb10",
   "metadata": {},
   "outputs": [],
   "source": [
    "################ 4. Ahora find_element(By.TAG_NAME, \"\") , Antes find_element_ ###################"
   ]
  },
  {
   "cell_type": "code",
   "execution_count": 26,
   "id": "7040c770",
   "metadata": {},
   "outputs": [
    {
     "name": "stdout",
     "output_type": "stream",
     "text": [
      "Título - Noticias\n"
     ]
    }
   ],
   "source": [
    "from selenium.webdriver.common.by import By\n",
    "\n",
    "elemento_tag=driver.find_element(By.TAG_NAME,\"h1\")\n",
    "print(elemento_tag.text)"
   ]
  },
  {
   "cell_type": "code",
   "execution_count": 27,
   "id": "fb67f6a1",
   "metadata": {},
   "outputs": [
    {
     "name": "stdout",
     "output_type": "stream",
     "text": [
      "Este es un párrafo.\n"
     ]
    }
   ],
   "source": [
    "from selenium.webdriver.common.by import By\n",
    "\n",
    "elemento_tag=driver.find_element(By.TAG_NAME,\"p\")\n",
    "print(elemento_tag.text)"
   ]
  },
  {
   "cell_type": "code",
   "execution_count": null,
   "id": "6bc87a66",
   "metadata": {},
   "outputs": [],
   "source": [
    "################ 5. Ahora find_element(By.LINK_TEXT, \"\") , Antes find_element_ ###################"
   ]
  },
  {
   "cell_type": "code",
   "execution_count": 31,
   "id": "d33b2fa8",
   "metadata": {},
   "outputs": [
    {
     "name": "stdout",
     "output_type": "stream",
     "text": [
      "Segundo Enlace 4\n"
     ]
    }
   ],
   "source": [
    "from selenium.webdriver.common.by import By\n",
    "\n",
    "elemento_link_text=driver.find_element(By.LINK_TEXT,\"Segundo Enlace 4\")\n",
    "print(elemento_link_text.text)"
   ]
  },
  {
   "cell_type": "code",
   "execution_count": null,
   "id": "d8e260a8",
   "metadata": {},
   "outputs": [],
   "source": [
    "################ 6. Ahora find_element(By.PARTIAL_LINK_TEXT, \"\") , Antes find_element_ ###################"
   ]
  },
  {
   "cell_type": "code",
   "execution_count": 32,
   "id": "d7a07218",
   "metadata": {},
   "outputs": [
    {
     "name": "stdout",
     "output_type": "stream",
     "text": [
      "Primer Enlace 1\n"
     ]
    }
   ],
   "source": [
    "from selenium.webdriver.common.by import By\n",
    "\n",
    "elemento_link_text=driver.find_element(By.PARTIAL_LINK_TEXT,\"Enlace\")\n",
    "print(elemento_link_text.text)"
   ]
  },
  {
   "cell_type": "code",
   "execution_count": null,
   "id": "461cb22d",
   "metadata": {},
   "outputs": [],
   "source": [
    "################ 7. Ahora find_element(By.CSS_SELECTOR, \"\")  ###################"
   ]
  },
  {
   "cell_type": "code",
   "execution_count": 33,
   "id": "017ef680",
   "metadata": {},
   "outputs": [
    {
     "name": "stdout",
     "output_type": "stream",
     "text": [
      "Título Contenedor 1\n",
      "Subtítulo Contenedor 1\n",
      "Primer Enlace 1\n",
      "Primer Párrafo en el primer div\n"
     ]
    }
   ],
   "source": [
    "from selenium.webdriver.common.by import By\n",
    "\n",
    "elemento=driver.find_element(By.CSS_SELECTOR,\"div\")  #### nombre de la etiqueta\n",
    "print(elemento.text)"
   ]
  },
  {
   "cell_type": "code",
   "execution_count": 34,
   "id": "400619b1",
   "metadata": {},
   "outputs": [
    {
     "name": "stdout",
     "output_type": "stream",
     "text": [
      "Título Contenedor 2\n",
      "Subtítulo Contenedor 2\n",
      "Primer Párrafo en segundo div\n",
      "Segundo Enlace 2 Segundo Enlace 3 Segundo Enlace 4 example.com\n",
      "Segundo Párrafo en segundo div\n"
     ]
    }
   ],
   "source": [
    "from selenium.webdriver.common.by import By\n",
    "\n",
    "elemento=driver.find_element(By.CSS_SELECTOR,\".content\") ### clase\n",
    "print(elemento.text)"
   ]
  },
  {
   "cell_type": "code",
   "execution_count": 35,
   "id": "4834ae2a",
   "metadata": {},
   "outputs": [
    {
     "name": "stdout",
     "output_type": "stream",
     "text": [
      "Título Contenedor 2\n",
      "Subtítulo Contenedor 2\n",
      "Primer Párrafo en segundo div\n",
      "Segundo Enlace 2 Segundo Enlace 3 Segundo Enlace 4 example.com\n",
      "Segundo Párrafo en segundo div\n"
     ]
    }
   ],
   "source": [
    "from selenium.webdriver.common.by import By\n",
    "\n",
    "elemento=driver.find_element(By.CSS_SELECTOR,\"#second\") ### id\n",
    "print(elemento.text)"
   ]
  },
  {
   "cell_type": "code",
   "execution_count": 36,
   "id": "71f7161f",
   "metadata": {},
   "outputs": [
    {
     "name": "stdout",
     "output_type": "stream",
     "text": [
      "Primer Párrafo en el primer div\n"
     ]
    }
   ],
   "source": [
    "from selenium.webdriver.common.by import By\n",
    "\n",
    "elemento=driver.find_element(By.CSS_SELECTOR,\"div > p\")  #### seleccionamos hijo directo \n",
    "print(elemento.text)"
   ]
  },
  {
   "cell_type": "code",
   "execution_count": 38,
   "id": "20c52f5d",
   "metadata": {},
   "outputs": [
    {
     "name": "stdout",
     "output_type": "stream",
     "text": [
      "Título Contenedor 2\n"
     ]
    }
   ],
   "source": [
    "from selenium.webdriver.common.by import By\n",
    "\n",
    "elemento_id_second=driver.find_element(By.CSS_SELECTOR,\"#second\") ### id\n",
    "#### seleccionado h1 del elemento cuyo id=second\n",
    "elemento=elemento_id_second.find_element(By.CSS_SELECTOR,\"h1\")\n",
    "\n",
    "print(elemento.text)"
   ]
  },
  {
   "cell_type": "code",
   "execution_count": 39,
   "id": "430a51cb",
   "metadata": {},
   "outputs": [
    {
     "name": "stdout",
     "output_type": "stream",
     "text": [
      "Título Contenedor 2\n"
     ]
    }
   ],
   "source": [
    "from selenium.webdriver.common.by import By\n",
    "\n",
    "elemento_id_second=driver.find_element(By.CSS_SELECTOR,\"#second > h1\") ### id\n",
    "print(elemento_id_second.text)"
   ]
  },
  {
   "cell_type": "code",
   "execution_count": 40,
   "id": "625d128e",
   "metadata": {},
   "outputs": [
    {
     "name": "stdout",
     "output_type": "stream",
     "text": [
      "Segundo Enlace 2\n"
     ]
    }
   ],
   "source": [
    "from selenium.webdriver.common.by import By\n",
    "\n",
    "elemento=driver.find_element(By.CSS_SELECTOR,\"div.content a.enlace\") ## el punto es clase\n",
    "print(elemento.text)"
   ]
  },
  {
   "cell_type": "code",
   "execution_count": 41,
   "id": "935c8fe4",
   "metadata": {},
   "outputs": [
    {
     "name": "stdout",
     "output_type": "stream",
     "text": [
      "Título Contenedor 2\n"
     ]
    }
   ],
   "source": [
    "from selenium.webdriver.common.by import By\n",
    "\n",
    "elemento=driver.find_element(By.CSS_SELECTOR,\"div#second > h1.estilo1\")\n",
    "print(elemento.text)"
   ]
  },
  {
   "cell_type": "code",
   "execution_count": 46,
   "id": "3916fb9c",
   "metadata": {},
   "outputs": [
    {
     "name": "stdout",
     "output_type": "stream",
     "text": [
      "http://example.com/pagina2\n"
     ]
    }
   ],
   "source": [
    "from selenium.webdriver.common.by import By\n",
    "\n",
    "elemento=driver.find_element(By.CSS_SELECTOR,\"a.enlace\")\n",
    "print(elemento.get_attribute(\"href\"))"
   ]
  },
  {
   "cell_type": "code",
   "execution_count": null,
   "id": "99fb0d43",
   "metadata": {},
   "outputs": [],
   "source": [
    "######################################## FIND ELEMENTS ###########################"
   ]
  },
  {
   "cell_type": "code",
   "execution_count": 43,
   "id": "39b20a22",
   "metadata": {},
   "outputs": [
    {
     "name": "stdout",
     "output_type": "stream",
     "text": [
      "Este es un párrafo.\n",
      "Otro Párrafo.\n"
     ]
    }
   ],
   "source": [
    "from selenium.webdriver.common.by import By\n",
    "\n",
    "elemento_clase=driver.find_elements(By.CLASS_NAME,\"text\")\n",
    "\n",
    "for elemento in elemento_clase:\n",
    "    print(elemento.text)"
   ]
  },
  {
   "cell_type": "code",
   "execution_count": 44,
   "id": "a14d18bd",
   "metadata": {},
   "outputs": [
    {
     "name": "stdout",
     "output_type": "stream",
     "text": [
      "Este es un párrafo.\n",
      "Otro Párrafo.\n"
     ]
    }
   ],
   "source": [
    "from selenium.webdriver.common.by import By\n",
    "\n",
    "elemento_clase=driver.find_elements(By.CSS_SELECTOR,\".text\")\n",
    "\n",
    "for elemento in elemento_clase:\n",
    "    print(elemento.text)"
   ]
  },
  {
   "cell_type": "code",
   "execution_count": 45,
   "id": "7195afb5",
   "metadata": {},
   "outputs": [
    {
     "name": "stdout",
     "output_type": "stream",
     "text": [
      "Título - Noticias\n",
      "Título Contenedor 1\n",
      "Título Contenedor 2\n"
     ]
    }
   ],
   "source": [
    "from selenium.webdriver.common.by import By\n",
    "\n",
    "elementos=driver.find_elements(By.TAG_NAME,\"h1\")\n",
    "\n",
    "for elemento in elementos:\n",
    "    print(elemento.text)"
   ]
  },
  {
   "cell_type": "code",
   "execution_count": 51,
   "id": "c11f719d",
   "metadata": {},
   "outputs": [
    {
     "name": "stdout",
     "output_type": "stream",
     "text": [
      "http://example.com/pagina1\n",
      "http://example.com/pagina2\n",
      "http://example.com/pagina3\n",
      "http://index.com/pagina3\n",
      "https://example.com/\n"
     ]
    }
   ],
   "source": [
    "from selenium.webdriver.common.by import By\n",
    "\n",
    "elementos=driver.find_elements(By.CSS_SELECTOR,\"a\")\n",
    "\n",
    "for elemento in elementos:\n",
    "    print(elemento.get_attribute(\"href\"))"
   ]
  },
  {
   "cell_type": "code",
   "execution_count": 49,
   "id": "f6218bfe",
   "metadata": {},
   "outputs": [
    {
     "name": "stdout",
     "output_type": "stream",
     "text": [
      "http://example.com/pagina1\n"
     ]
    }
   ],
   "source": [
    "elemento=driver.find_element(By.CSS_SELECTOR,\"a\")\n",
    "print(elemento.get_attribute(\"href\"))"
   ]
  },
  {
   "cell_type": "code",
   "execution_count": 55,
   "id": "85a014e1",
   "metadata": {},
   "outputs": [
    {
     "name": "stdout",
     "output_type": "stream",
     "text": [
      "Título - Noticias\n"
     ]
    }
   ],
   "source": [
    "elemento=driver.find_element(By.CSS_SELECTOR,\"h1\")\n",
    "print(elemento.text)"
   ]
  },
  {
   "cell_type": "markdown",
   "id": "56886abd",
   "metadata": {},
   "source": [
    "### 3. Locators -XPATH"
   ]
  },
  {
   "cell_type": "code",
   "execution_count": 52,
   "id": "50b28b59",
   "metadata": {},
   "outputs": [
    {
     "name": "stdout",
     "output_type": "stream",
     "text": [
      "Título - Noticias\n"
     ]
    }
   ],
   "source": [
    "###### por eqtiqueta ####\n",
    "\n",
    "elemento=driver.find_element(By.XPATH, '//h1')\n",
    "print(elemento.text)"
   ]
  },
  {
   "cell_type": "code",
   "execution_count": 53,
   "id": "b65fbc70",
   "metadata": {},
   "outputs": [
    {
     "name": "stdout",
     "output_type": "stream",
     "text": [
      "Título Contenedor 1\n",
      "Subtítulo Contenedor 1\n",
      "Primer Enlace 1\n",
      "Primer Párrafo en el primer div\n"
     ]
    }
   ],
   "source": [
    "elemento=driver.find_element(By.XPATH, '//div')\n",
    "print(elemento.text)"
   ]
  },
  {
   "cell_type": "code",
   "execution_count": 54,
   "id": "96ce5a5f",
   "metadata": {},
   "outputs": [
    {
     "name": "stdout",
     "output_type": "stream",
     "text": [
      "Este es un párrafo.\n"
     ]
    }
   ],
   "source": [
    "elemento=driver.find_element(By.XPATH, '//p')\n",
    "print(elemento.text)"
   ]
  },
  {
   "cell_type": "code",
   "execution_count": 57,
   "id": "b56d3a4f",
   "metadata": {},
   "outputs": [
    {
     "name": "stdout",
     "output_type": "stream",
     "text": [
      "Este es un párrafo.\n"
     ]
    }
   ],
   "source": [
    "elemento=driver.find_element(By.XPATH, '//p[@class=\"text\"]')\n",
    "print(elemento.text)"
   ]
  },
  {
   "cell_type": "code",
   "execution_count": 58,
   "id": "89326fc4",
   "metadata": {},
   "outputs": [
    {
     "name": "stdout",
     "output_type": "stream",
     "text": [
      "Título Contenedor 2\n",
      "Subtítulo Contenedor 2\n",
      "Primer Párrafo en segundo div\n",
      "Segundo Enlace 2 Segundo Enlace 3 Segundo Enlace 4 example.com\n",
      "Segundo Párrafo en segundo div\n"
     ]
    }
   ],
   "source": [
    "elemento=driver.find_element(By.XPATH, '//div[@id=\"second\"]')\n",
    "print(elemento.text)"
   ]
  },
  {
   "cell_type": "code",
   "execution_count": 59,
   "id": "23203186",
   "metadata": {},
   "outputs": [
    {
     "name": "stdout",
     "output_type": "stream",
     "text": [
      "Título Contenedor 2\n",
      "Subtítulo Contenedor 2\n",
      "Primer Párrafo en segundo div\n",
      "Segundo Enlace 2 Segundo Enlace 3 Segundo Enlace 4 example.com\n",
      "Segundo Párrafo en segundo div\n"
     ]
    }
   ],
   "source": [
    "elemento=driver.find_element(By.XPATH, '//div[@class=\"content\"]')\n",
    "print(elemento.text)"
   ]
  },
  {
   "cell_type": "code",
   "execution_count": 60,
   "id": "3d5d6da2",
   "metadata": {},
   "outputs": [
    {
     "name": "stdout",
     "output_type": "stream",
     "text": [
      "Título Contenedor 2\n",
      "Subtítulo Contenedor 2\n",
      "Primer Párrafo en segundo div\n",
      "Segundo Enlace 2 Segundo Enlace 3 Segundo Enlace 4 example.com\n",
      "Segundo Párrafo en segundo div\n"
     ]
    }
   ],
   "source": [
    "elemento=driver.find_element(By.XPATH, '//*[@id=\"second\"]')\n",
    "print(elemento.text)"
   ]
  },
  {
   "cell_type": "code",
   "execution_count": 61,
   "id": "345501c9",
   "metadata": {},
   "outputs": [
    {
     "name": "stdout",
     "output_type": "stream",
     "text": [
      "Primer Enlace 1\n"
     ]
    }
   ],
   "source": [
    "elemento=driver.find_element(By.XPATH, '//a[contains(@href,\"example\")]')\n",
    "print(elemento.text)"
   ]
  },
  {
   "cell_type": "code",
   "execution_count": 62,
   "id": "f3a4a311",
   "metadata": {},
   "outputs": [
    {
     "name": "stdout",
     "output_type": "stream",
     "text": [
      "Título Contenedor 2\n"
     ]
    }
   ],
   "source": [
    "elemento=driver.find_element(By.XPATH, '//div[@class=\"content\"]/h1[@class=\"estilo1\"]')\n",
    "print(elemento.text)"
   ]
  },
  {
   "cell_type": "code",
   "execution_count": null,
   "id": "848cdd6e",
   "metadata": {},
   "outputs": [],
   "source": [
    "######### USANDO XPATH - INSPECCIÓN ####"
   ]
  },
  {
   "cell_type": "code",
   "execution_count": 63,
   "id": "363c2303",
   "metadata": {},
   "outputs": [
    {
     "name": "stdout",
     "output_type": "stream",
     "text": [
      "Título Contenedor 2\n"
     ]
    }
   ],
   "source": [
    "elemento=driver.find_element(By.XPATH, '//*[@id=\"second\"]/h1')\n",
    "print(elemento.text)"
   ]
  },
  {
   "cell_type": "code",
   "execution_count": 64,
   "id": "f3901bd7",
   "metadata": {},
   "outputs": [
    {
     "name": "stdout",
     "output_type": "stream",
     "text": [
      "Paragraph inside article\n"
     ]
    }
   ],
   "source": [
    "elemento=driver.find_element(By.XPATH, '/html/body/div[3]/section/article/p')\n",
    "print(elemento.text)"
   ]
  },
  {
   "cell_type": "code",
   "execution_count": 65,
   "id": "7d31350f",
   "metadata": {},
   "outputs": [
    {
     "name": "stdout",
     "output_type": "stream",
     "text": [
      "Título Contenedor 2\n"
     ]
    }
   ],
   "source": [
    "elemento=driver.find_element(By.XPATH, '/html/body/div[2]/h1')\n",
    "print(elemento.text)"
   ]
  },
  {
   "cell_type": "code",
   "execution_count": 66,
   "id": "ff61ce24",
   "metadata": {},
   "outputs": [
    {
     "name": "stdout",
     "output_type": "stream",
     "text": [
      "Primer Enlace 1\n"
     ]
    }
   ],
   "source": [
    "elemento=driver.find_element(By.XPATH, '/html/body/div[1]/a')\n",
    "print(elemento.text)"
   ]
  },
  {
   "cell_type": "code",
   "execution_count": 67,
   "id": "cfc83fa0",
   "metadata": {},
   "outputs": [
    {
     "name": "stdout",
     "output_type": "stream",
     "text": [
      "http://example.com/pagina1\n"
     ]
    }
   ],
   "source": [
    "elemento=driver.find_element(By.XPATH, '/html/body/div[1]/a')\n",
    "print(elemento.get_attribute(\"href\"))"
   ]
  },
  {
   "cell_type": "code",
   "execution_count": null,
   "id": "7f5c4bfe",
   "metadata": {},
   "outputs": [],
   "source": []
  },
  {
   "cell_type": "code",
   "execution_count": null,
   "id": "ebc12858",
   "metadata": {},
   "outputs": [],
   "source": [
    "#################### Extrayendo Datos de Atributos ##############"
   ]
  },
  {
   "cell_type": "code",
   "execution_count": 97,
   "id": "6a7df3c3",
   "metadata": {},
   "outputs": [
    {
     "name": "stdout",
     "output_type": "stream",
     "text": [
      "http://example.com/pagina1\n"
     ]
    }
   ],
   "source": [
    "###### obtener el valor del atributo href ###\n",
    "elemento_enlace=driver.find_element(By.XPATH, '//a')\n",
    "valor_href=elemento_enlace.get_attribute('href')\n",
    "print(valor_href)"
   ]
  },
  {
   "cell_type": "code",
   "execution_count": 99,
   "id": "dd2aa91c",
   "metadata": {},
   "outputs": [
    {
     "name": "stdout",
     "output_type": "stream",
     "text": [
      "file:///C:/Users/arqze/OneDrive/Escritorio/WEBSCRAPING_PYTHON/ejercicios_ws/image.jpg\n"
     ]
    }
   ],
   "source": [
    "###### obtener el valor del atributo src ###\n",
    "elemento_imagen=driver.find_element(By.XPATH, '//*[@id=\"exampleImage\"]')\n",
    "valor_src=elemento_imagen.get_attribute('src')\n",
    "print(valor_src)"
   ]
  },
  {
   "cell_type": "code",
   "execution_count": 101,
   "id": "da45fee7",
   "metadata": {},
   "outputs": [
    {
     "name": "stdout",
     "output_type": "stream",
     "text": [
      "Ingrese Email\n"
     ]
    }
   ],
   "source": [
    "###### obtener el valor del atributo placeholder ###\n",
    "elemento_imput=driver.find_element(By.XPATH, '/html/body/input[1]')\n",
    "valor_placeholder=elemento_imput.get_attribute('placeholder')\n",
    "print(valor_placeholder)"
   ]
  },
  {
   "cell_type": "code",
   "execution_count": 103,
   "id": "663b5df0",
   "metadata": {},
   "outputs": [
    {
     "name": "stdout",
     "output_type": "stream",
     "text": [
      "content\n"
     ]
    }
   ],
   "source": [
    "###### obtener el valor del atributo clase ###\n",
    "elemento_contenedor=driver.find_element(By.XPATH, '//*[@id=\"second\"]')\n",
    "valor_class=elemento_contenedor.get_attribute('class')\n",
    "print(valor_class)"
   ]
  },
  {
   "cell_type": "code",
   "execution_count": 104,
   "id": "b4a1ef31",
   "metadata": {},
   "outputs": [
    {
     "name": "stdout",
     "output_type": "stream",
     "text": [
      "2\n"
     ]
    }
   ],
   "source": [
    "###### obtener el valor del atributo value ###\n",
    "elemento=driver.find_element(By.XPATH, '//*[@id=\"option2\"]')\n",
    "valor_value=elemento.get_attribute('value')\n",
    "print(valor_value)"
   ]
  },
  {
   "cell_type": "code",
   "execution_count": 105,
   "id": "d78c356a",
   "metadata": {},
   "outputs": [
    {
     "name": "stdout",
     "output_type": "stream",
     "text": [
      "12345\n"
     ]
    }
   ],
   "source": [
    "###### obtener el valor del atributo data_info ###\n",
    "elemento=driver.find_element(By.XPATH, '//*[@id=\"infoDiv\"]')\n",
    "valor_data_info=elemento.get_attribute('data-info')\n",
    "print(valor_data_info)"
   ]
  },
  {
   "cell_type": "code",
   "execution_count": 106,
   "id": "d1e8693a",
   "metadata": {},
   "outputs": [
    {
     "name": "stdout",
     "output_type": "stream",
     "text": [
      "password\n"
     ]
    }
   ],
   "source": [
    "###### obtener el valor del atributo type ###\n",
    "elemento=driver.find_element(By.XPATH, '//*[@id=\"passwordInput\"]')\n",
    "valor_type=elemento.get_attribute('type')\n",
    "print(valor_type)"
   ]
  },
  {
   "cell_type": "code",
   "execution_count": null,
   "id": "653b836f",
   "metadata": {},
   "outputs": [],
   "source": [
    "################ PÁGINA 1 LABORATORIO ################"
   ]
  },
  {
   "cell_type": "code",
   "execution_count": 68,
   "id": "7e4e9537",
   "metadata": {},
   "outputs": [
    {
     "data": {
      "text/html": [
       "\n",
       "<!DOCTYPE html>\n",
       "<html lang=\"en\">\n",
       "<head>\n",
       " \n",
       "    <title>Laboratorio Ejercicios Selenium </title>\n",
       "</head>\n",
       "<body>\n",
       "    <h1>Ejercicios Selenium - Cibertec</h1>\n",
       "\n",
       "    <div class=\"container\" id=\"section1\">\n",
       "        <h2>Section 1</h2>\n",
       "        <p class=\"description\">This is the first section.</p>\n",
       "        <a href=\"https://example.com/page1\" id=\"link1\">Page 1</a>\n",
       "        <button class=\"btn action\" id=\"btn1\" data-info=\"info1\">Action 1</button>\n",
       "        <button class=\"btn action\" id=\"btn2\" data-info=\"info2\">Action 2</button>\n",
       "        <div class=\"nested\">\n",
       "            <a href=\"https://example.com/page2\" class=\"highlight\">Page 2</a>\n",
       "        </div>\n",
       "    </div>\n",
       "    \n",
       "    <div class=\"container\" id=\"section2\">\n",
       "        <h2>Section 2</h2>\n",
       "        <p class=\"description hidden\">Descripción.</p>\n",
       "        <button class=\"btn action\" id=\"btn3\" data-info=\"info3\">Action 3</button>\n",
       "        <button class=\"btn action\" id=\"btn4\" data-info=\"info4\">Action 4</button>\n",
       "    </div>\n",
       "    \n",
       "    <div class=\"clase contenedor\" id=\"section3\">\n",
       "        <h2>Section 3</h2>\n",
       "        <button class=\"btn action\" id=\"btn5\" data-info=\"info5\">Action 5</button>\n",
       "        <button class=\"btn action\" id=\"btn6\" data-info=\"info6\">Action 6</button>\n",
       "    </div>\n",
       "\n",
       "    <div class=\"dynamic\" id=\"section4\">\n",
       "        <h2>Section 4</h2>\n",
       "        <p class=\"description\">Dynamic Section.</p>\n",
       "        <a href=\"https://www.python.org/\" class=\"highlight\">Link 4</a>\n",
       "    </div>\n",
       "</body>\n",
       "</html>\n"
      ],
      "text/plain": [
       "<IPython.core.display.HTML object>"
      ]
     },
     "metadata": {},
     "output_type": "display_data"
    }
   ],
   "source": [
    "%%HTML\n",
    "\n",
    "<!DOCTYPE html>\n",
    "<html lang=\"en\">\n",
    "<head>\n",
    " \n",
    "    <title>Laboratorio Ejercicios Selenium </title>\n",
    "</head>\n",
    "<body>\n",
    "    <h1>Ejercicios Selenium - Cibertec</h1>\n",
    "\n",
    "    <div class=\"container\" id=\"section1\">\n",
    "        <h2>Section 1</h2>\n",
    "        <p class=\"description\">This is the first section.</p>\n",
    "        <a href=\"https://example.com/page1\" id=\"link1\">Page 1</a>\n",
    "        <button class=\"btn action\" id=\"btn1\" data-info=\"info1\">Action 1</button>\n",
    "        <button class=\"btn action\" id=\"btn2\" data-info=\"info2\">Action 2</button>\n",
    "        <div class=\"nested\">\n",
    "            <a href=\"https://example.com/page2\" class=\"highlight\">Page 2</a>\n",
    "        </div>\n",
    "    </div>\n",
    "    \n",
    "    <div class=\"container\" id=\"section2\">\n",
    "        <h2>Section 2</h2>\n",
    "        <p class=\"description hidden\">Descripción.</p>\n",
    "        <button class=\"btn action\" id=\"btn3\" data-info=\"info3\">Action 3</button>\n",
    "        <button class=\"btn action\" id=\"btn4\" data-info=\"info4\">Action 4</button>\n",
    "    </div>\n",
    "    \n",
    "    <div class=\"clase contenedor\" id=\"section3\">\n",
    "        <h2>Section 3</h2>\n",
    "        <button class=\"btn action\" id=\"btn5\" data-info=\"info5\">Action 5</button>\n",
    "        <button class=\"btn action\" id=\"btn6\" data-info=\"info6\">Action 6</button>\n",
    "    </div>\n",
    "\n",
    "    <div class=\"dynamic\" id=\"section4\">\n",
    "        <h2>Section 4</h2>\n",
    "        <p class=\"description\">Dynamic Section.</p>\n",
    "        <a href=\"https://www.python.org/\" class=\"highlight\">Link 4</a>\n",
    "    </div>\n",
    "</body>\n",
    "</html>\n"
   ]
  },
  {
   "cell_type": "code",
   "execution_count": 69,
   "id": "8283faf2",
   "metadata": {},
   "outputs": [
    {
     "name": "stdout",
     "output_type": "stream",
     "text": [
      "Writing laboratorio1_selenium.html\n"
     ]
    }
   ],
   "source": [
    "%%writefile  laboratorio1_selenium.html\n",
    "<!DOCTYPE html>\n",
    "<html lang=\"en\">\n",
    "<head>\n",
    " \n",
    "    <title>Laboratorio Ejercicios Selenium </title>\n",
    "</head>\n",
    "<body>\n",
    "    <h1>Ejercicios Selenium - Cibertec</h1>\n",
    "\n",
    "    <div class=\"container\" id=\"section1\">\n",
    "        <h2>Section 1</h2>\n",
    "        <p class=\"description\">This is the first section.</p>\n",
    "        <a href=\"https://example.com/page1\" id=\"link1\">Page 1</a>\n",
    "        <button class=\"btn action\" id=\"btn1\" data-info=\"info1\">Action 1</button>\n",
    "        <button class=\"btn action\" id=\"btn2\" data-info=\"info2\">Action 2</button>\n",
    "        <div class=\"nested\">\n",
    "            <a href=\"https://example.com/page2\" class=\"highlight\">Page 2</a>\n",
    "        </div>\n",
    "    </div>\n",
    "    \n",
    "    <div class=\"container\" id=\"section2\">\n",
    "        <h2>Section 2</h2>\n",
    "        <p class=\"description hidden\">Descripción.</p>\n",
    "        <button class=\"btn action\" id=\"btn3\" data-info=\"info3\">Action 3</button>\n",
    "        <button class=\"btn action\" id=\"btn4\" data-info=\"info4\">Action 4</button>\n",
    "    </div>\n",
    "    \n",
    "    <div class=\"clase contenedor\" id=\"section3\">\n",
    "        <h2>Section 3</h2>\n",
    "        <button class=\"btn action\" id=\"btn5\" data-info=\"info5\">Action 5</button>\n",
    "        <button class=\"btn action\" id=\"btn6\" data-info=\"info6\">Action 6</button>\n",
    "    </div>\n",
    "\n",
    "    <div class=\"dynamic\" id=\"section4\">\n",
    "        <h2>Section 4</h2>\n",
    "        <p class=\"description\">Dynamic Section.</p>\n",
    "        <a href=\"https://www.python.org/\" class=\"highlight\">Link 4</a>\n",
    "    </div>\n",
    "</body>\n",
    "</html>\n"
   ]
  },
  {
   "cell_type": "code",
   "execution_count": null,
   "id": "c2a0cc0a",
   "metadata": {},
   "outputs": [],
   "source": [
    "############ preguntas ###########"
   ]
  },
  {
   "cell_type": "code",
   "execution_count": null,
   "id": "fdf8a481",
   "metadata": {},
   "outputs": [],
   "source": [
    "#Pregunta 1: Localiza el botón con el ID btn5 y obtén su texto.\n",
    "#Pregunta 2: Localiza todos los botones con la clase btn action y obtén sus textos.\n",
    "#Pregunta 3: Localiza el botón con el atributo data-info=\"info4\" y obtén su texto.\n",
    "#Pregunta 4 : Localiza el enlace que contiene el texto parcial Page 2 y obtén su href.\n",
    "#Pregunta 5: Localiza el enlace con el texto exacto Link 4 y obtén su href.\n",
    "#Pregunta 6: Localiza el botón en la sección con ID section3 usando XPath y obtén su texto.\n",
    "#Pregunta 7: Localiza el div con la clase clase contenedor y obtén el texto de su primer hijo.\n",
    "#Pregunta 9 : Localiza el enlace dentro de un div con la clase nested en la sección 1 y obtén su href. usando xpath\n",
    "#Pregunta 8: Intenta localizar el elemento con la clase hidden y verifica si está presente en el DOM. usando CLASS_NAME"
   ]
  },
  {
   "cell_type": "code",
   "execution_count": null,
   "id": "d6614c6d",
   "metadata": {},
   "outputs": [],
   "source": [
    "############ solución ###########"
   ]
  },
  {
   "cell_type": "code",
   "execution_count": 70,
   "id": "7831447b",
   "metadata": {},
   "outputs": [],
   "source": [
    "########## levantando la página ############\n",
    "\n",
    "from selenium import webdriver\n",
    "\n",
    "#archivo_html='C:\\Users\\arqze\\OneDrive\\Escritorio\\WEBSCRAPING_PYTHON\\ejercicios_ws'\n",
    "\n",
    "driver=webdriver.Chrome()\n",
    "driver.get(r'C:\\Users\\arqze\\OneDrive\\Escritorio\\WEBSCRAPING_PYTHON\\ejercicios_ws\\laboratorio1_selenium.html')"
   ]
  },
  {
   "cell_type": "code",
   "execution_count": 71,
   "id": "b469002a",
   "metadata": {},
   "outputs": [
    {
     "name": "stdout",
     "output_type": "stream",
     "text": [
      "Action 5\n"
     ]
    }
   ],
   "source": [
    "#Pregunta 1: Localiza el botón con el ID btn5 y obtén su texto.\n",
    "boton=driver.find_element(By.ID,\"btn5\")\n",
    "print(boton.text)"
   ]
  },
  {
   "cell_type": "code",
   "execution_count": null,
   "id": "55962619",
   "metadata": {},
   "outputs": [],
   "source": [
    "#Pregunta 2: Localiza todos los botones con la clase btn action y obtén sus textos."
   ]
  },
  {
   "cell_type": "code",
   "execution_count": 73,
   "id": "038419fd",
   "metadata": {},
   "outputs": [
    {
     "name": "stdout",
     "output_type": "stream",
     "text": [
      "Action 1\n",
      "Action 2\n",
      "Action 3\n",
      "Action 4\n",
      "Action 5\n",
      "Action 6\n"
     ]
    }
   ],
   "source": [
    "from selenium.webdriver.common.by import By\n",
    "\n",
    "elemento_clase=driver.find_elements(By.CSS_SELECTOR,\".btn.action\")\n",
    "\n",
    "for elemento in elemento_clase:\n",
    "    print(elemento.text)"
   ]
  },
  {
   "cell_type": "code",
   "execution_count": null,
   "id": "08a05449",
   "metadata": {},
   "outputs": [],
   "source": [
    "#Pregunta 3: Localiza el botón con el atributo data-info=\"info4\" y obtén su texto."
   ]
  },
  {
   "cell_type": "code",
   "execution_count": 75,
   "id": "9c1a70fd",
   "metadata": {},
   "outputs": [
    {
     "name": "stdout",
     "output_type": "stream",
     "text": [
      "Action 4\n"
     ]
    }
   ],
   "source": [
    "from selenium.webdriver.common.by import By\n",
    "elemento=driver.find_element(By.CSS_SELECTOR,\"button[data-info='info4']\")\n",
    "print(elemento.text)"
   ]
  },
  {
   "cell_type": "code",
   "execution_count": 77,
   "id": "5bda8ea2",
   "metadata": {},
   "outputs": [
    {
     "name": "stdout",
     "output_type": "stream",
     "text": [
      "https://example.com/page2\n"
     ]
    }
   ],
   "source": [
    "#Pregunta 4 : Localiza el enlace que contiene el texto parcial Page 2 y obtén su href.\n",
    "elemento=driver.find_element(By.PARTIAL_LINK_TEXT,\"Page 2\")\n",
    "print(elemento.get_attribute('href'))"
   ]
  },
  {
   "cell_type": "code",
   "execution_count": 78,
   "id": "274257b9",
   "metadata": {},
   "outputs": [
    {
     "name": "stdout",
     "output_type": "stream",
     "text": [
      "https://www.python.org/\n"
     ]
    }
   ],
   "source": [
    "#Pregunta 5: Localiza el enlace con el texto exacto Link 4 y obtén su href.\n",
    "elemento=driver.find_element(By.LINK_TEXT,\"Link 4\")\n",
    "print(elemento.get_attribute('href'))"
   ]
  },
  {
   "cell_type": "code",
   "execution_count": 79,
   "id": "0afa35d6",
   "metadata": {},
   "outputs": [
    {
     "name": "stdout",
     "output_type": "stream",
     "text": [
      "https://www.python.org/\n"
     ]
    }
   ],
   "source": [
    "elemento=driver.find_element(By.PARTIAL_LINK_TEXT,\"Link 4\")\n",
    "print(elemento.get_attribute('href'))"
   ]
  },
  {
   "cell_type": "code",
   "execution_count": 85,
   "id": "6c5dda5f",
   "metadata": {},
   "outputs": [
    {
     "name": "stdout",
     "output_type": "stream",
     "text": [
      "Action 5\n",
      "Action 6\n"
     ]
    }
   ],
   "source": [
    "#Pregunta 6: Localiza el botón en la sección con ID section3 usando XPath y obtén su texto.\n",
    "elementos=driver.find_elements(By.XPATH,'//*[@id=\"section3\"]')\n",
    "\n",
    "for elemento in elementos:\n",
    "    botones=elemento.find_elements(By.TAG_NAME,'button')\n",
    "    for boton in botones:\n",
    "        print(boton.text)"
   ]
  },
  {
   "cell_type": "code",
   "execution_count": 86,
   "id": "0087428e",
   "metadata": {},
   "outputs": [
    {
     "name": "stdout",
     "output_type": "stream",
     "text": [
      "Section 3\n"
     ]
    }
   ],
   "source": [
    "#Pregunta 7: Localiza el div con la clase \"clase contenedor\" y obtén el texto de su primer hijo.\n",
    "\n",
    "elemento=driver.find_element(By.CSS_SELECTOR,'div.clase.contenedor > h2')\n",
    "print(elemento.text)"
   ]
  },
  {
   "cell_type": "code",
   "execution_count": 88,
   "id": "facffff5",
   "metadata": {},
   "outputs": [
    {
     "name": "stdout",
     "output_type": "stream",
     "text": [
      "Descripción.\n"
     ]
    }
   ],
   "source": [
    "#Pregunta 8: Intenta localizar el elemento con la clase hidden y verifica si está presente en el DOM. usando CLASS_NAME\n",
    "elemento=driver.find_element(By.CLASS_NAME,'hidden')\n",
    "print(elemento.text)"
   ]
  },
  {
   "cell_type": "code",
   "execution_count": 90,
   "id": "e861f03a",
   "metadata": {},
   "outputs": [
    {
     "name": "stdout",
     "output_type": "stream",
     "text": [
      "Descripción.\n"
     ]
    }
   ],
   "source": [
    "elemento=driver.find_element(By.CLASS_NAME,'description.hidden')\n",
    "print(elemento.text)"
   ]
  },
  {
   "cell_type": "code",
   "execution_count": null,
   "id": "08b110af",
   "metadata": {},
   "outputs": [],
   "source": [
    "#Pregunta 9 : Localiza el enlace dentro de un div con la clase nested en la sección 1 y obtén su href. usando xpath"
   ]
  },
  {
   "cell_type": "code",
   "execution_count": 93,
   "id": "d8e09cf4",
   "metadata": {},
   "outputs": [
    {
     "name": "stdout",
     "output_type": "stream",
     "text": [
      "https://example.com/page2\n"
     ]
    }
   ],
   "source": [
    "elemento=driver.find_element(By.XPATH,'//*[@id=\"section1\"]/div/a')\n",
    "print(elemento.get_attribute('href'))"
   ]
  },
  {
   "cell_type": "code",
   "execution_count": null,
   "id": "10736de6",
   "metadata": {},
   "outputs": [],
   "source": []
  },
  {
   "cell_type": "markdown",
   "id": "2158b4c6",
   "metadata": {},
   "source": [
    "### 4. Wait"
   ]
  },
  {
   "cell_type": "code",
   "execution_count": null,
   "id": "83e7de66",
   "metadata": {},
   "outputs": [],
   "source": [
    "##################### Espera Implícita (Implicit Wait) #####################"
   ]
  },
  {
   "cell_type": "code",
   "execution_count": 111,
   "id": "c611a3f9",
   "metadata": {},
   "outputs": [
    {
     "name": "stdout",
     "output_type": "stream",
     "text": [
      "Functions Defined\n"
     ]
    }
   ],
   "source": [
    "from selenium import webdriver\n",
    "\n",
    "driver=webdriver.Chrome()\n",
    "\n",
    "driver.get(\"https://www.python.org/\")\n",
    "driver.implicitly_wait(15)\n",
    "\n",
    "## búsqueda de un elemento\n",
    "elemento=driver.find_element(By.XPATH,'//*[@id=\"dive-into-python\"]/ul[2]/li[1]/div[2]/h1')\n",
    "print(elemento.text)"
   ]
  },
  {
   "cell_type": "code",
   "execution_count": null,
   "id": "f70fbf13",
   "metadata": {},
   "outputs": [],
   "source": [
    "##################### Espera Explícita (Explicit Wait) #####################"
   ]
  },
  {
   "cell_type": "code",
   "execution_count": 113,
   "id": "ddad8259",
   "metadata": {},
   "outputs": [
    {
     "name": "stdout",
     "output_type": "stream",
     "text": [
      "Functions Defined\n"
     ]
    }
   ],
   "source": [
    "from selenium import webdriver\n",
    "from selenium.webdriver.support.ui import WebDriverWait\n",
    "from selenium.webdriver.support import expected_conditions as EC\n",
    "\n",
    "driver=webdriver.Chrome()\n",
    "\n",
    "driver.get(\"https://www.python.org/\")\n",
    "\n",
    "espera=WebDriverWait(driver,10)\n",
    "\n",
    "## búsqueda de un elemento\n",
    "elemento= espera.until(EC.presence_of_element_located((By.XPATH,'//*[@id=\"dive-into-python\"]/ul[2]/li[1]/div[2]/h1')))\n",
    "print(elemento.text)"
   ]
  },
  {
   "cell_type": "code",
   "execution_count": 114,
   "id": "ff1e7995",
   "metadata": {},
   "outputs": [
    {
     "name": "stdout",
     "output_type": "stream",
     "text": [
      "Functions Defined\n"
     ]
    }
   ],
   "source": [
    "from selenium import webdriver\n",
    "import time\n",
    "\n",
    "driver=webdriver.Chrome()\n",
    "driver.get(\"https://www.python.org/\")\n",
    "\n",
    "\n",
    "time.sleep(12)\n",
    "\n",
    "## búsqueda de un elemento\n",
    "elemento=driver.find_element(By.XPATH,'//*[@id=\"dive-into-python\"]/ul[2]/li[1]/div[2]/h1')\n",
    "print(elemento.text)\n",
    "\n",
    "time.sleep(10)\n",
    "\n",
    "time.sleep(10)"
   ]
  },
  {
   "cell_type": "code",
   "execution_count": null,
   "id": "93844bb2",
   "metadata": {},
   "outputs": [],
   "source": []
  },
  {
   "cell_type": "markdown",
   "id": "9f393a36",
   "metadata": {},
   "source": [
    "### 5. ACCIONES"
   ]
  },
  {
   "cell_type": "code",
   "execution_count": null,
   "id": "051cbc6b",
   "metadata": {},
   "outputs": [],
   "source": [
    "############################ Enviar Texto a un elemento ----  send_keys  ###########"
   ]
  },
  {
   "cell_type": "code",
   "execution_count": 5,
   "id": "3a0345c5",
   "metadata": {},
   "outputs": [],
   "source": [
    "from selenium import webdriver\n",
    "from selenium.webdriver.common.by import By\n",
    "from selenium.webdriver.common.action_chains import ActionChains\n",
    "import time\n",
    "\n",
    "driver=webdriver.Chrome()\n",
    "driver.get(\"https://pythonscraping.com/pages/form.html\")\n",
    "\n",
    "## creamos una instancia de actionchains\n",
    "actions=ActionChains(driver)\n",
    "\n",
    "#### encontrar los campos de entradas\n",
    "\n",
    "time.sleep(3)\n",
    "\n",
    "primer_nombre=driver.find_element(By.XPATH,'/html/body/form/input[1]')\n",
    "apellidos=driver.find_element(By.XPATH,'/html/body/form/input[2]')\n",
    "\n",
    "#time.sleep(4)\n",
    "\n",
    "##### enviar datos\n",
    "time.sleep(1)\n",
    "actions.click(primer_nombre).send_keys('Jhonatan').perform()\n",
    "time.sleep(1)\n",
    "actions.click(apellidos).send_keys('Camasca Huaman').perform()\n",
    "\n",
    "### encontrar el elemnto sobre el que deseamos hacer click\n",
    "elemento=driver.find_element(By.XPATH,'/html/body/form/input[3]')\n",
    "\n",
    "time.sleep(1)\n",
    "### Hacer click en el elemento\n",
    "actions.click(elemento).perform()"
   ]
  },
  {
   "cell_type": "code",
   "execution_count": null,
   "id": "70fd3241",
   "metadata": {},
   "outputs": [],
   "source": [
    "############################ Hacer click a un elemento ---- .click  ###########"
   ]
  },
  {
   "cell_type": "code",
   "execution_count": 121,
   "id": "bc28ab62",
   "metadata": {},
   "outputs": [],
   "source": [
    "### encontrar el elemnto sobre el que deseamos hacer click\n",
    "elemento=driver.find_element(By.XPATH,'/html/body/form/input[3]')\n",
    "\n",
    "### Hacer click en el elemento\n",
    "actions.click(elemento).perform()"
   ]
  },
  {
   "cell_type": "code",
   "execution_count": 6,
   "id": "fce69703",
   "metadata": {},
   "outputs": [],
   "source": [
    "#### ejercicio 1 ####\n",
    "\n",
    "from selenium import webdriver\n",
    "from selenium.webdriver.common.by import By\n",
    "from selenium.webdriver.common.action_chains import ActionChains\n",
    "\n",
    "driver=webdriver.Chrome()\n",
    "driver.get(\"https://www.selenium.dev/selenium/web/login.html\")\n",
    "actions=ActionChains(driver)\n",
    "\n",
    "### identificamos los campos de entrada ###\n",
    "usuario=driver.find_element(By.XPATH,'//*[@id=\"username-field\"]')\n",
    "contrasena=driver.find_element(By.XPATH,'//*[@id=\"password-field\"]')\n",
    "\n",
    "##### enviar datos\n",
    "actions.click(usuario).send_keys('username').perform()\n",
    "actions.click(contrasena).send_keys('password').perform()\n",
    "\n",
    "###hacer click en el boton login\n",
    "boton=driver.find_element(By.ID,\"login-form-submit\")\n",
    "actions.click(boton).perform()\n"
   ]
  },
  {
   "cell_type": "code",
   "execution_count": null,
   "id": "207f86a0",
   "metadata": {},
   "outputs": [],
   "source": [
    "#### otra manera .json ###"
   ]
  },
  {
   "cell_type": "code",
   "execution_count": 7,
   "id": "eafe1550",
   "metadata": {},
   "outputs": [],
   "source": [
    "import json\n",
    "from selenium import webdriver\n",
    "from selenium.webdriver.common.by import By\n",
    "from selenium.webdriver.common.action_chains import ActionChains\n",
    "\n",
    "#### leer las credenciales desde una archivo de configuración\n",
    "with open('config.json') as config_file:\n",
    "    config=json.load(config_file)\n",
    "    param_usuario=config['usuario']\n",
    "    param_contrasena=config['contrasena']\n",
    "    \n",
    "driver=webdriver.Chrome()\n",
    "driver.get(\"https://www.selenium.dev/selenium/web/login.html\")\n",
    "actions=ActionChains(driver)\n",
    "\n",
    "### identificamos los campos de entrada ###\n",
    "usuario=driver.find_element(By.XPATH,'//*[@id=\"username-field\"]')\n",
    "contrasena=driver.find_element(By.XPATH,'//*[@id=\"password-field\"]')\n",
    "\n",
    "##### enviar datos\n",
    "actions.click(usuario).send_keys(param_usuario).perform()\n",
    "actions.click(contrasena).send_keys(param_contrasena).perform()\n",
    "\n",
    "###hacer click en el boton login\n",
    "boton=driver.find_element(By.ID,\"login-form-submit\")\n",
    "actions.click(boton).perform()"
   ]
  },
  {
   "cell_type": "code",
   "execution_count": null,
   "id": "6528113e",
   "metadata": {},
   "outputs": [],
   "source": [
    "#### otra manera .csv ###"
   ]
  },
  {
   "cell_type": "code",
   "execution_count": 8,
   "id": "f8e79417",
   "metadata": {},
   "outputs": [
    {
     "name": "stdout",
     "output_type": "stream",
     "text": [
      "Usuario:username\n",
      "Contraseña:password\n"
     ]
    }
   ],
   "source": [
    "import csv\n",
    "from selenium import webdriver\n",
    "from selenium.webdriver.common.by import By\n",
    "from selenium.webdriver.common.action_chains import ActionChains\n",
    "\n",
    "#### leer las credenciales desde una archivo de configuración\n",
    "with open('config.csv') as config_file:\n",
    "    leyendo=csv.DictReader(config_file)\n",
    "    for row in leyendo:\n",
    "        param_usuario=row['usuario']\n",
    "        param_contrasena=row['contrasena']\n",
    "\n",
    "#validamos que imprime las credenciales       \n",
    "print(f'Usuario:{param_usuario}' )        \n",
    "print(f'Contraseña:{param_contrasena}' ) "
   ]
  },
  {
   "cell_type": "code",
   "execution_count": 9,
   "id": "4b38f65d",
   "metadata": {},
   "outputs": [],
   "source": [
    "import csv\n",
    "from selenium import webdriver\n",
    "from selenium.webdriver.common.by import By\n",
    "from selenium.webdriver.common.action_chains import ActionChains\n",
    "\n",
    "#### leer las credenciales desde una archivo de configuración\n",
    "with open('config.csv') as config_file:\n",
    "    leyendo=csv.DictReader(config_file)\n",
    "    for row in leyendo:\n",
    "        param_usuario=row['usuario']\n",
    "        param_contrasena=row['contrasena']\n",
    "\n",
    "#validamos que imprime las credenciales       \n",
    "# print(f'Usuario:{param_usuario}' )        \n",
    "# print(f'Contraseña:{param_contrasena}' )  \n",
    "      \n",
    "driver=webdriver.Chrome()\n",
    "driver.get(\"https://www.selenium.dev/selenium/web/login.html\")\n",
    "actions=ActionChains(driver)\n",
    "\n",
    "### identificamos los campos de entrada ###\n",
    "usuario=driver.find_element(By.XPATH,'//*[@id=\"username-field\"]')\n",
    "contrasena=driver.find_element(By.XPATH,'//*[@id=\"password-field\"]')\n",
    "\n",
    "##### enviar datos\n",
    "actions.click(usuario).send_keys(param_usuario).perform()\n",
    "actions.click(contrasena).send_keys(param_contrasena).perform()\n",
    "\n",
    "###hacer click en el boton login\n",
    "boton=driver.find_element(By.ID,\"login-form-submit\")\n",
    "actions.click(boton).perform()"
   ]
  },
  {
   "cell_type": "code",
   "execution_count": null,
   "id": "81b0897e",
   "metadata": {},
   "outputs": [],
   "source": [
    "#### ejercicio 2 ####"
   ]
  },
  {
   "cell_type": "code",
   "execution_count": 10,
   "id": "f82ec1bd",
   "metadata": {},
   "outputs": [],
   "source": [
    "from selenium import webdriver\n",
    "from selenium.webdriver.common.by import By\n",
    "from selenium.webdriver.common.action_chains import ActionChains\n",
    "\n",
    "driver=webdriver.Chrome()\n",
    "driver.get(\"https://www.selenium.dev/selenium/web/click_tests/issue5237.html\")\n",
    "actions=ActionChains(driver)\n",
    "\n",
    "### Ingresando al contexto iframe\n",
    "iframe=driver.find_element(By.ID, \"search\")\n",
    "driver.switch_to.frame(iframe)\n",
    "\n",
    "###### Encontrar el elemento sobre el que deseamos hacer click\n",
    "elemento=driver.find_element(By.ID,\"submit\")\n",
    "\n",
    "### Hacer click sobre el elemento\n",
    "actions.click(elemento).perform()\n",
    "\n",
    "### volvemos al contexto principal(fuera del iframe)\n",
    "driver.switch_to.default_content()"
   ]
  },
  {
   "cell_type": "code",
   "execution_count": null,
   "id": "c2e44de3",
   "metadata": {},
   "outputs": [],
   "source": []
  },
  {
   "cell_type": "code",
   "execution_count": null,
   "id": "d4d6e146",
   "metadata": {},
   "outputs": [],
   "source": [
    "############################ Mover el scroll  ###############"
   ]
  },
  {
   "cell_type": "code",
   "execution_count": null,
   "id": "410d7cfb",
   "metadata": {},
   "outputs": [],
   "source": [
    "############# cantidad especifica de scroll ######\n",
    "from selenium import webdriver\n",
    "from selenium.webdriver.common.by import By\n",
    "from selenium.webdriver.common.action_chains import ActionChains\n",
    "\n",
    "driver=webdriver.Chrome()\n",
    "driver.get(\"https://incatienda.com.pe/index.php?id_category=15&controller=category\")\n",
    "actions=ActionChains(driver)\n",
    "\n",
    "time.sleep(3)\n",
    "driver.execute_script(\"window.scrollBy(0,1500)\")"
   ]
  },
  {
   "cell_type": "code",
   "execution_count": 15,
   "id": "8aab5cfb",
   "metadata": {},
   "outputs": [],
   "source": [
    "############# al final de la página de scroll ######\n",
    "from selenium import webdriver\n",
    "from selenium.webdriver.common.by import By\n",
    "from selenium.webdriver.common.action_chains import ActionChains\n",
    "\n",
    "driver=webdriver.Chrome()\n",
    "driver.get(\"https://incatienda.com.pe/index.php?id_category=15&controller=category\")\n",
    "actions=ActionChains(driver)\n",
    "\n",
    "time.sleep(3)\n",
    "driver.execute_script(\"window.scrollBy(0,document.body.scrollHeight);\")\n",
    "#### volvemos al scroll del inicio de la página\n",
    "\n",
    "time.sleep(4)\n",
    "driver.execute_script(\"window.scrollTo(0,0);\")"
   ]
  },
  {
   "cell_type": "code",
   "execution_count": 132,
   "id": "55ecef70",
   "metadata": {},
   "outputs": [],
   "source": [
    "#### volvemos al scroll del inicio de la página\n",
    "driver.execute_script(\"window.scrollTo(0,0);\")"
   ]
  },
  {
   "cell_type": "code",
   "execution_count": null,
   "id": "d3334198",
   "metadata": {},
   "outputs": [],
   "source": []
  },
  {
   "cell_type": "code",
   "execution_count": null,
   "id": "2481a676",
   "metadata": {},
   "outputs": [],
   "source": [
    "############################ Mover el cursor sobre un elemento  ###############"
   ]
  },
  {
   "cell_type": "code",
   "execution_count": 16,
   "id": "b77481fb",
   "metadata": {},
   "outputs": [],
   "source": [
    "from selenium import webdriver\n",
    "from selenium.webdriver.common.by import By\n",
    "from selenium.webdriver.common.action_chains import ActionChains\n",
    "\n",
    "driver=webdriver.Chrome()\n",
    "driver.get(\"https://www.selenium.dev/selenium/web/droppableItems.html\")\n",
    "actions=ActionChains(driver)\n",
    "\n",
    "## identificando el elemento\n",
    "elemento=driver.find_element(By.ID,'droppable')\n",
    "\n",
    "actions.move_to_element(elemento).perform() #### 1 movimiento (move)\n",
    "time.sleep(3)\n",
    "### realizar movimiento\n",
    "actions.move_by_offset(20,20).perform() #### 2 movimiento (move)\n",
    "time.sleep(3)\n",
    "actions.move_by_offset(-20,-20).perform() ### 3 movimiento (move)\n"
   ]
  },
  {
   "cell_type": "code",
   "execution_count": null,
   "id": "9cdbf96b",
   "metadata": {},
   "outputs": [],
   "source": [
    "############################ Arrastra y Soltar un elemento  ###############"
   ]
  },
  {
   "cell_type": "code",
   "execution_count": 17,
   "id": "77a14d41",
   "metadata": {},
   "outputs": [],
   "source": [
    "from selenium import webdriver\n",
    "from selenium.webdriver.common.by import By\n",
    "from selenium.webdriver.common.action_chains import ActionChains\n",
    "\n",
    "driver=webdriver.Chrome()\n",
    "driver.get(\"https://www.selenium.dev/selenium/web/dragAndDropTest.html\")\n",
    "actions=ActionChains(driver)\n",
    "\n",
    "\n",
    "############## encontrar los elementos de origen y destino ######\n",
    "origen=driver.find_element(By.ID,\"test1\")\n",
    "destino=driver.find_element(By.ID,\"test3\")\n",
    "\n",
    "time.sleep(3)\n",
    "\n",
    "#### realizamos la acción de arrastrar y soltar\n",
    "actions.drag_and_drop(origen,destino).perform()\n"
   ]
  },
  {
   "cell_type": "code",
   "execution_count": 6,
   "id": "f6f0b089",
   "metadata": {},
   "outputs": [
    {
     "name": "stdout",
     "output_type": "stream",
     "text": [
      "              Producto   Precio\n",
      "0     Asus VivoBook...  $295.99\n",
      "1    Prestigio Smar...     $299\n",
      "2    Prestigio Smar...     $299\n",
      "3        Aspire E1-510  $306.99\n",
      "4    Lenovo V110-15...  $321.94\n",
      "..                 ...      ...\n",
      "112   Lenovo Legion...    $1399\n",
      "113  Asus ROG Strix...    $1399\n",
      "114  Asus ROG Strix...    $1769\n",
      "115  Asus ROG Strix...    $1769\n",
      "116  Asus ROG Strix...    $1799\n",
      "\n",
      "[117 rows x 2 columns]\n",
      "\n",
      "✅ Datos guardados en 'laptops_scrape.csv'.\n"
     ]
    }
   ],
   "source": [
    "from selenium import webdriver\n",
    "from selenium.webdriver.common.by import By\n",
    "import pandas as pd\n",
    "import time\n",
    "\n",
    "# 1. Iniciar el navegador Chrome\n",
    "driver = webdriver.Chrome()\n",
    "driver.get(\"https://webscraper.io/test-sites/e-commerce/allinone/computers/laptops\")\n",
    "time.sleep(2)  # Esperar que cargue el sitio\n",
    "\n",
    "# 2. Extraer los nombres y precios\n",
    "nombres = driver.find_elements(By.CLASS_NAME, \"title\")\n",
    "precios = driver.find_elements(By.CLASS_NAME, \"price\")\n",
    "\n",
    "# 3. Crear una lista de diccionarios\n",
    "productos = []\n",
    "for nombre, precio in zip(nombres, precios):\n",
    "    productos.append({\n",
    "        \"Producto\": nombre.text.strip(),\n",
    "        \"Precio\": precio.text.strip()\n",
    "    })\n",
    "\n",
    "# 4. Mostrar como tabla en consola\n",
    "df = pd.DataFrame(productos)\n",
    "print(df)\n",
    "\n",
    "# 5. Guardar en archivo CSV (para abrir en Excel o pandas)\n",
    "df.to_csv(\"laptops_scrape.csv\", index=False)\n",
    "print(\"\\n✅ Datos guardados en 'laptops_scrape.csv'.\")\n",
    "\n",
    "# 6. Cerrar el navegador\n",
    "driver.quit()\n"
   ]
  }
 ],
 "metadata": {
  "kernelspec": {
   "display_name": "mientorno",
   "language": "python",
   "name": "python3"
  },
  "language_info": {
   "codemirror_mode": {
    "name": "ipython",
    "version": 3
   },
   "file_extension": ".py",
   "mimetype": "text/x-python",
   "name": "python",
   "nbconvert_exporter": "python",
   "pygments_lexer": "ipython3",
   "version": "3.13.3"
  }
 },
 "nbformat": 4,
 "nbformat_minor": 5
}
