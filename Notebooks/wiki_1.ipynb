{
 "cells": [
  {
   "cell_type": "code",
   "execution_count": 1,
   "id": "d2acdf93",
   "metadata": {},
   "outputs": [
    {
     "name": "stdout",
     "output_type": "stream",
     "text": [
      "✅ Listo. Los datos fueron guardados en 'contenido_bullet.csv'.\n"
     ]
    }
   ],
   "source": [
    "from selenium import webdriver\n",
    "from selenium.webdriver.common.by import By\n",
    "import pandas as pd\n",
    "import time\n",
    "\n",
    "# 1. Iniciar el navegador\n",
    "driver = webdriver.Chrome()\n",
    "driver.get(\"https://en.wikipedia.org/wiki/Bullet_(typography)\")\n",
    "time.sleep(2)\n",
    "\n",
    "# 2. Extraer PÁRRAFOS\n",
    "parrafos_raw = driver.find_elements(By.CSS_SELECTOR, 'div.mw-parser-output > p')\n",
    "parrafos = [p.text.strip() for p in parrafos_raw if p.text.strip()]\n",
    "\n",
    "# 3. Extraer LISTAS\n",
    "listas_raw = driver.find_elements(By.CSS_SELECTOR, 'div.mw-parser-output > ul, div.mw-parser-output > ol')\n",
    "\n",
    "listas = []\n",
    "for lista in listas_raw:\n",
    "    items = lista.find_elements(By.TAG_NAME, \"li\")\n",
    "    texto_items = [item.text.strip() for item in items if item.text.strip()]\n",
    "    if texto_items:\n",
    "        listas.append(texto_items)\n",
    "\n",
    "# 4. Formatear para guardar\n",
    "data = []\n",
    "\n",
    "# Añadir párrafos\n",
    "for idx, parrafo in enumerate(parrafos, start=1):\n",
    "    data.append({\"Tipo\": \"Párrafo\", \"Contenido\": parrafo})\n",
    "\n",
    "# Añadir listas\n",
    "for idx, lista in enumerate(listas, start=1):\n",
    "    for item in lista:\n",
    "        data.append({\"Tipo\": f\"Lista {idx}\", \"Contenido\": item})\n",
    "\n",
    "# 5. Guardar como CSV\n",
    "df = pd.DataFrame(data)\n",
    "df.to_csv(\"contenido_bullet.csv\", index=False, encoding=\"utf-8-sig\")\n",
    "\n",
    "# 6. Finalizar\n",
    "driver.quit()\n",
    "print(\"✅ Listo. Los datos fueron guardados en 'contenido_bullet.csv'.\")\n"
   ]
  }
 ],
 "metadata": {
  "kernelspec": {
   "display_name": "mientorno",
   "language": "python",
   "name": "python3"
  },
  "language_info": {
   "codemirror_mode": {
    "name": "ipython",
    "version": 3
   },
   "file_extension": ".py",
   "mimetype": "text/x-python",
   "name": "python",
   "nbconvert_exporter": "python",
   "pygments_lexer": "ipython3",
   "version": "3.13.3"
  }
 },
 "nbformat": 4,
 "nbformat_minor": 5
}
