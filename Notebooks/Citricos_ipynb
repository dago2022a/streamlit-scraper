from selenium import webdriver
from selenium.webdriver.common.by import By
import pandas as pd
import time

# 1. Inicializa navegador
driver = webdriver.Chrome()
driver.get("https://en.wikipedia.org/wiki/List_of_citrus_fruits")
time.sleep(2)  # Esperar que cargue la página

# 2. Extraer párrafos
parrafos_raw = driver.find_elements(By.CSS_SELECTOR, 'div.mw-parser-output > p')
parrafos = [p.text.strip() for p in parrafos_raw if p.text.strip()]

# 3. Extraer listas (ul y ol dentro del contenido)
listas_raw = driver.find_elements(By.CSS_SELECTOR, 'div.mw-parser-output > ul, div.mw-parser-output > ol')

# Procesar listas e ítems
listas = []
for lista in listas_raw:
    items = lista.find_elements(By.TAG_NAME, "li")
    for item in items:
        texto = item.text.strip()
        if texto:
            listas.append(texto)

# 4. Armar estructura para CSV
contenido = []

for i, p in enumerate(parrafos, start=1):
    contenido.append({"Tipo": "Párrafo", "Contenido": p})

for i, item in enumerate(listas, start=1):
    contenido.append({"Tipo": "Lista", "Contenido": item})

# 5. Crear DataFrame y guardar en .csv
df = pd.DataFrame(contenido)
df.to_csv("frutas_citricas.csv", index=False, encoding="utf-8-sig")

# 6. Cerrar navegador
driver.quit()
print("✅ ¡Scraping completo! Archivo guardado como 'frutas_citricas.csv'")

df = pd.read_csv(csv_path)
tools.display_dataframe_to_user(name="Contenido de frutas_citricas.csv", dataframe=df)